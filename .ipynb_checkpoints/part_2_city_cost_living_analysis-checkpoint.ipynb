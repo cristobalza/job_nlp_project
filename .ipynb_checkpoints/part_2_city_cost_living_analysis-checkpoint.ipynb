{
 "cells": [
  {
   "cell_type": "markdown",
   "metadata": {},
   "source": [
    "# Part 2: Cost of Living"
   ]
  },
  {
   "cell_type": "code",
   "execution_count": 39,
   "metadata": {},
   "outputs": [],
   "source": [
    "import numpy as np\n",
    "import pandas as pd\n",
    "import re\n",
    "import calendar\n",
    "\n",
    "import seaborn as sns\n",
    "import matplotlib.style as style\n",
    "\n",
    "import matplotlib as mpl\n",
    "import matplotlib.pyplot as plt\n",
    "import matplotlib.cm as cm\n",
    "%matplotlib inline\n",
    "\n",
    "style.use('fivethirtyeight')"
   ]
  },
  {
   "cell_type": "code",
   "execution_count": 40,
   "metadata": {},
   "outputs": [],
   "source": [
    "df = pd.read_csv('./data/all_jobs.csv')\n",
    "salary_df = pd.read_csv('./data/only_salary_jobs.csv')"
   ]
  },
  {
   "cell_type": "markdown",
   "metadata": {},
   "source": [
    "### About Cost of Living Indices\n",
    "\n",
    "These indices are relative to New York City (NYC). Which means that for New York City, each index should be 100(%). If another city has, for example, rent index of 120, it means that on an average in that city rents are 20% more expensive than in New York City. If a city has rent index of 70, that means on average rent in that city is 30% less expensive than in New York City.\n",
    "\n",
    "**Cost of Living Index (Excl. Rent)** is a relative indicator of consumer goods prices, including groceries, restaurants, transportation and utilities. Cost of Living Index does not include accommodation expenses such as rent or mortgage. If a city has a Cost of Living Index of 120, it means Numbeo has estimated it is 20% more expensive than New York (excluding rent).\n",
    "\n",
    "**Rent Index** is an estimation of prices of renting apartments in the city compared to New York City. If Rent index is 80, Numbeo has estimated that price of rents in that city is on average 20% less than the price in New York.\n",
    "\n",
    "**Groceries Index** is an estimation of grocery prices in the city compared to New York City. To calculate this section, Numbeo uses weights of items in the \"Markets\" section for each city.\n",
    "\n",
    "**Restaurants Index** is a comparison of prices of meals and drinks in restaurants and bars compared to NYC.\n",
    "\n",
    "**Cost of Living Plus Rent Index** is an estimation of consumer goods prices including rent comparing to New York City.\n",
    "\n",
    "**Local Purchasing Power** shows relative purchasing power in buying goods and services in a given city for the average net salary in that city. If domestic purchasing power is 40, this means that the inhabitants of that city with an average salary can afford to buy on an average 60% less goods and services than New York City residents with an average salary.\n",
    "\n",
    "*Source: [numbeo.com](https://www.numbeo.com/cost-of-living/cpi_explained.jsp)*\n"
   ]
  },
  {
   "cell_type": "code",
   "execution_count": 41,
   "metadata": {},
   "outputs": [],
   "source": [
    "cost_living_df = pd.read_csv('./data/cost_of_living_mid_2020.csv')"
   ]
  },
  {
   "cell_type": "code",
   "execution_count": 42,
   "metadata": {},
   "outputs": [
    {
     "data": {
      "text/html": [
       "<div>\n",
       "<style scoped>\n",
       "    .dataframe tbody tr th:only-of-type {\n",
       "        vertical-align: middle;\n",
       "    }\n",
       "\n",
       "    .dataframe tbody tr th {\n",
       "        vertical-align: top;\n",
       "    }\n",
       "\n",
       "    .dataframe thead th {\n",
       "        text-align: right;\n",
       "    }\n",
       "</style>\n",
       "<table border=\"1\" class=\"dataframe\">\n",
       "  <thead>\n",
       "    <tr style=\"text-align: right;\">\n",
       "      <th></th>\n",
       "      <th>City</th>\n",
       "      <th>Cost of Living Index</th>\n",
       "      <th>Rent Index</th>\n",
       "      <th>Cost of Living Plus Rent Index</th>\n",
       "      <th>Groceries Index</th>\n",
       "      <th>Restaurant Price Index</th>\n",
       "      <th>Local Purchasing Power Index</th>\n",
       "    </tr>\n",
       "  </thead>\n",
       "  <tbody>\n",
       "    <tr>\n",
       "      <td>0</td>\n",
       "      <td>New York NY United States</td>\n",
       "      <td>100.00</td>\n",
       "      <td>100.00</td>\n",
       "      <td>100.00</td>\n",
       "      <td>100.00</td>\n",
       "      <td>100.00</td>\n",
       "      <td>100.00</td>\n",
       "    </tr>\n",
       "    <tr>\n",
       "      <td>1</td>\n",
       "      <td>San Francisco CA United States</td>\n",
       "      <td>92.13</td>\n",
       "      <td>109.76</td>\n",
       "      <td>100.72</td>\n",
       "      <td>89.79</td>\n",
       "      <td>88.26</td>\n",
       "      <td>139.00</td>\n",
       "    </tr>\n",
       "    <tr>\n",
       "      <td>2</td>\n",
       "      <td>Anchorage AK United States</td>\n",
       "      <td>90.83</td>\n",
       "      <td>36.51</td>\n",
       "      <td>64.38</td>\n",
       "      <td>89.86</td>\n",
       "      <td>75.91</td>\n",
       "      <td>119.91</td>\n",
       "    </tr>\n",
       "    <tr>\n",
       "      <td>3</td>\n",
       "      <td>Nassau Bahamas</td>\n",
       "      <td>89.57</td>\n",
       "      <td>38.57</td>\n",
       "      <td>64.73</td>\n",
       "      <td>76.56</td>\n",
       "      <td>83.50</td>\n",
       "      <td>45.96</td>\n",
       "    </tr>\n",
       "    <tr>\n",
       "      <td>4</td>\n",
       "      <td>Oakland CA United States</td>\n",
       "      <td>88.68</td>\n",
       "      <td>79.83</td>\n",
       "      <td>84.37</td>\n",
       "      <td>94.92</td>\n",
       "      <td>72.03</td>\n",
       "      <td>97.98</td>\n",
       "    </tr>\n",
       "  </tbody>\n",
       "</table>\n",
       "</div>"
      ],
      "text/plain": [
       "                             City  Cost of Living Index  Rent Index  \\\n",
       "0       New York NY United States                100.00      100.00   \n",
       "1  San Francisco CA United States                 92.13      109.76   \n",
       "2      Anchorage AK United States                 90.83       36.51   \n",
       "3                  Nassau Bahamas                 89.57       38.57   \n",
       "4        Oakland CA United States                 88.68       79.83   \n",
       "\n",
       "   Cost of Living Plus Rent Index  Groceries Index  Restaurant Price Index  \\\n",
       "0                          100.00           100.00                  100.00   \n",
       "1                          100.72            89.79                   88.26   \n",
       "2                           64.38            89.86                   75.91   \n",
       "3                           64.73            76.56                   83.50   \n",
       "4                           84.37            94.92                   72.03   \n",
       "\n",
       "   Local Purchasing Power Index  \n",
       "0                        100.00  \n",
       "1                        139.00  \n",
       "2                        119.91  \n",
       "3                         45.96  \n",
       "4                         97.98  "
      ]
     },
     "execution_count": 42,
     "metadata": {},
     "output_type": "execute_result"
    }
   ],
   "source": [
    "cost_living_df.drop(columns=['Unnamed: 0', 'Rank'], inplace = True)\n",
    "cost_living_df.head()"
   ]
  },
  {
   "cell_type": "code",
   "execution_count": 43,
   "metadata": {},
   "outputs": [],
   "source": [
    "def united_states_only_func(col, df):\n",
    "    \"\"\"\n",
    "    Chooses only United States cities.\n",
    "    \"\"\"\n",
    "    temp = df[df[col].str.contains('United States', regex=False, case=False, na=False)]\n",
    "    # Get rif of word 'United States' before returning df\n",
    "    temp['City'] = temp['City'].str.strip('United States')\n",
    "    return temp"
   ]
  },
  {
   "cell_type": "code",
   "execution_count": 44,
   "metadata": {},
   "outputs": [],
   "source": [
    "us_cost_living_df = united_states_only_func('City', cost_living_df)"
   ]
  },
  {
   "cell_type": "code",
   "execution_count": 45,
   "metadata": {},
   "outputs": [
    {
     "data": {
      "text/html": [
       "<div>\n",
       "<style scoped>\n",
       "    .dataframe tbody tr th:only-of-type {\n",
       "        vertical-align: middle;\n",
       "    }\n",
       "\n",
       "    .dataframe tbody tr th {\n",
       "        vertical-align: top;\n",
       "    }\n",
       "\n",
       "    .dataframe thead th {\n",
       "        text-align: right;\n",
       "    }\n",
       "</style>\n",
       "<table border=\"1\" class=\"dataframe\">\n",
       "  <thead>\n",
       "    <tr style=\"text-align: right;\">\n",
       "      <th></th>\n",
       "      <th>City</th>\n",
       "      <th>Cost of Living Index</th>\n",
       "      <th>Rent Index</th>\n",
       "      <th>Cost of Living Plus Rent Index</th>\n",
       "      <th>Groceries Index</th>\n",
       "      <th>Restaurant Price Index</th>\n",
       "      <th>Local Purchasing Power Index</th>\n",
       "    </tr>\n",
       "  </thead>\n",
       "  <tbody>\n",
       "    <tr>\n",
       "      <td>0</td>\n",
       "      <td>New York NY</td>\n",
       "      <td>100.00</td>\n",
       "      <td>100.00</td>\n",
       "      <td>100.00</td>\n",
       "      <td>100.00</td>\n",
       "      <td>100.00</td>\n",
       "      <td>100.00</td>\n",
       "    </tr>\n",
       "    <tr>\n",
       "      <td>1</td>\n",
       "      <td>Francisco CA</td>\n",
       "      <td>92.13</td>\n",
       "      <td>109.76</td>\n",
       "      <td>100.72</td>\n",
       "      <td>89.79</td>\n",
       "      <td>88.26</td>\n",
       "      <td>139.00</td>\n",
       "    </tr>\n",
       "    <tr>\n",
       "      <td>2</td>\n",
       "      <td>Anchorage AK</td>\n",
       "      <td>90.83</td>\n",
       "      <td>36.51</td>\n",
       "      <td>64.38</td>\n",
       "      <td>89.86</td>\n",
       "      <td>75.91</td>\n",
       "      <td>119.91</td>\n",
       "    </tr>\n",
       "    <tr>\n",
       "      <td>4</td>\n",
       "      <td>Oakland CA</td>\n",
       "      <td>88.68</td>\n",
       "      <td>79.83</td>\n",
       "      <td>84.37</td>\n",
       "      <td>94.92</td>\n",
       "      <td>72.03</td>\n",
       "      <td>97.98</td>\n",
       "    </tr>\n",
       "    <tr>\n",
       "      <td>5</td>\n",
       "      <td>Boston MA</td>\n",
       "      <td>88.61</td>\n",
       "      <td>75.13</td>\n",
       "      <td>82.05</td>\n",
       "      <td>89.28</td>\n",
       "      <td>84.34</td>\n",
       "      <td>107.59</td>\n",
       "    </tr>\n",
       "  </tbody>\n",
       "</table>\n",
       "</div>"
      ],
      "text/plain": [
       "           City  Cost of Living Index  Rent Index  \\\n",
       "0   New York NY                100.00      100.00   \n",
       "1  Francisco CA                 92.13      109.76   \n",
       "2  Anchorage AK                 90.83       36.51   \n",
       "4    Oakland CA                 88.68       79.83   \n",
       "5     Boston MA                 88.61       75.13   \n",
       "\n",
       "   Cost of Living Plus Rent Index  Groceries Index  Restaurant Price Index  \\\n",
       "0                          100.00           100.00                  100.00   \n",
       "1                          100.72            89.79                   88.26   \n",
       "2                           64.38            89.86                   75.91   \n",
       "4                           84.37            94.92                   72.03   \n",
       "5                           82.05            89.28                   84.34   \n",
       "\n",
       "   Local Purchasing Power Index  \n",
       "0                        100.00  \n",
       "1                        139.00  \n",
       "2                        119.91  \n",
       "4                         97.98  \n",
       "5                        107.59  "
      ]
     },
     "execution_count": 45,
     "metadata": {},
     "output_type": "execute_result"
    }
   ],
   "source": [
    "us_cost_living_df.head()"
   ]
  },
  {
   "cell_type": "code",
   "execution_count": 46,
   "metadata": {},
   "outputs": [],
   "source": [
    "# Cleaning some names\n",
    "import warnings\n",
    "warnings.filterwarnings(\"ignore\")\n",
    "us_cost_living_df['City'] = us_cost_living_df['City'].replace('Francisco CA', 'San Francisco CA')\n",
    "us_cost_living_df['City'] = us_cost_living_df['City'].replace('cramento CA', 'Sacramento CA')\n",
    "us_cost_living_df['City'] = us_cost_living_df['City'].replace('le WA', 'Seattle WA')\n",
    "us_cost_living_df['City'] = us_cost_living_df['City'].replace('Jose CA', 'San Jose CA')\n",
    "us_cost_living_df['City'] = us_cost_living_df['City'].replace('Diego CA', 'San Diego CA')\n",
    "us_cost_living_df['City'] = us_cost_living_df['City'].replace('pokane WA', 'Spokane WA')\n",
    "us_cost_living_df['City'] = us_cost_living_df['City'].replace('lt Lake City UT', 'Salt Lake City UT')\n",
    "us_cost_living_df['City'] = us_cost_living_df['City'].replace('Wichita K', 'Wichita KS')\n",
    "us_cost_living_df['City'] = us_cost_living_df['City'].replace('Antonio TX', 'San Antonio TX')"
   ]
  },
  {
   "cell_type": "code",
   "execution_count": 47,
   "metadata": {},
   "outputs": [
    {
     "data": {
      "text/plain": [
       "array(['New York NY', 'San Francisco CA', 'Anchorage AK', 'Oakland CA',\n",
       "       'Boston MA', 'Seattle WA', 'Honolulu HI', 'Washington DC',\n",
       "       'Miami FL', 'Charleston SC', 'Minneapolis MN', 'Chicago IL',\n",
       "       'Fort Lauderdale FL', 'Portland OR', 'Irvine CA', 'Los Angeles CA',\n",
       "       'Philadelphia PA', 'Pittsburgh PA', 'Cleveland OH', 'Milwaukee WI',\n",
       "       'Sacramento CA', 'San Diego CA', 'Asheville NC', 'San Jose CA',\n",
       "       'New Orleans LA', 'Birmingham AL', 'Tampa FL', 'Atlanta GA',\n",
       "       'Charlotte NC', 'Baltimore MD', 'Ann Arbor MI', 'Rochester NY',\n",
       "       'Denver CO', 'Spokane WA', 'Columbus OH', 'Albany NY',\n",
       "       'Colorado Springs CO', 'Knoxville TN', 'Orlando FL',\n",
       "       'Nashville TN', 'Buffalo NY', 'Olympia WA', 'Kansas City MO',\n",
       "       'Jacksonville FL', 'Raleigh NC', 'Detroit MI', 'Tucson AZ',\n",
       "       'Eugene OR', 'Reno NV', 'Richmond VA', 'Las Vegas NV',\n",
       "       'Louisville KY', 'Houston TX', 'Toledo OH', 'Des Moines IA',\n",
       "       'San Antonio TX', 'Phoenix AZ', 'Tulsa OK', 'Madison WI',\n",
       "       'Salt Lake City UT', 'Dallas TX', 'Indianapolis IN',\n",
       "       'Little Rock AR', 'Austin TX', 'Cincinnati OH', 'Albuquerque NM',\n",
       "       'Fresno CA', 'Memphis TN', 'Huntsville AL', 'Wichita KS',\n",
       "       'Boise ID', 'El Paso TX'], dtype=object)"
      ]
     },
     "execution_count": 47,
     "metadata": {},
     "output_type": "execute_result"
    }
   ],
   "source": [
    "us_cost_living_df['City'].unique()"
   ]
  },
  {
   "cell_type": "code",
   "execution_count": 48,
   "metadata": {},
   "outputs": [],
   "source": [
    "# temp = np.array([\n",
    "#     'NY',\n",
    "#     'CA',\n",
    "#     'AK',\n",
    "#     'MA',\n",
    "#     'WA',\n",
    "#     'HI', \n",
    "#     'Washington DC',\n",
    "#     'FL',\n",
    "#     'SC',\n",
    "#     'MN',\n",
    "#     'IL',\n",
    "#     'OR',\n",
    "#     'PA',\n",
    "#     'OH',\n",
    "#     'WI',\n",
    "#     'NC',\n",
    "#     'LA',\n",
    "#     'GA',\n",
    "#     'MD',\n",
    "#     'MI',\n",
    "#     'CO',\n",
    "#     'WA',\n",
    "#     'TN',\n",
    "#     'MO',\n",
    "#     'AZ',\n",
    "#     'NV',\n",
    "#     'VA',\n",
    "#     'KY',\n",
    "#     'TX',\n",
    "#     'OH',\n",
    "#     'IA',\n",
    "#     'OK',\n",
    "#     'WI',\n",
    "#     'UT',\n",
    "#     'IN',\n",
    "#     'AR',\n",
    "#     'NM',\n",
    "#     'AL',\n",
    "#     'KS',\n",
    "#     'ID',\n",
    "#     'TX'\n",
    "# ])"
   ]
  },
  {
   "cell_type": "code",
   "execution_count": 49,
   "metadata": {},
   "outputs": [],
   "source": [
    "# states_us = np.unique(temp)"
   ]
  },
  {
   "cell_type": "code",
   "execution_count": 50,
   "metadata": {},
   "outputs": [],
   "source": [
    "# salary_df['location'].str.split().str[-1].unique()"
   ]
  },
  {
   "cell_type": "code",
   "execution_count": 51,
   "metadata": {},
   "outputs": [],
   "source": [
    "salary_df['location']  = salary_df['location'].apply(lambda x: x.replace(',', ''))"
   ]
  },
  {
   "cell_type": "code",
   "execution_count": 52,
   "metadata": {},
   "outputs": [
    {
     "data": {
      "text/plain": [
       "(Index(['City', 'Cost of Living Index', 'Rent Index',\n",
       "        'Cost of Living Plus Rent Index', 'Groceries Index',\n",
       "        'Restaurant Price Index', 'Local Purchasing Power Index'],\n",
       "       dtype='object'),\n",
       " Index(['Unnamed: 0', 'job_title', 'salary', 'company', 'location', 'is_remote',\n",
       "        'job_rating', 'job_summary', 'post_date', 'extract_date', 'job_url',\n",
       "        'rate_by', 'min', 'max', 'adjusted_salary', 'yearly_adjusted_salary',\n",
       "        'salary_bins'],\n",
       "       dtype='object'))"
      ]
     },
     "execution_count": 52,
     "metadata": {},
     "output_type": "execute_result"
    }
   ],
   "source": [
    "(us_cost_living_df.columns, salary_df.columns)"
   ]
  },
  {
   "cell_type": "code",
   "execution_count": 53,
   "metadata": {},
   "outputs": [
    {
     "data": {
      "text/plain": [
       "((1520, 24), (1520, 17), (72, 7))"
      ]
     },
     "execution_count": 53,
     "metadata": {},
     "output_type": "execute_result"
    }
   ],
   "source": [
    "(full_df.shape, salary_df.shape, us_cost_living_df.shape)"
   ]
  },
  {
   "cell_type": "code",
   "execution_count": 54,
   "metadata": {},
   "outputs": [
    {
     "data": {
      "text/html": [
       "<div>\n",
       "<style scoped>\n",
       "    .dataframe tbody tr th:only-of-type {\n",
       "        vertical-align: middle;\n",
       "    }\n",
       "\n",
       "    .dataframe tbody tr th {\n",
       "        vertical-align: top;\n",
       "    }\n",
       "\n",
       "    .dataframe thead th {\n",
       "        text-align: right;\n",
       "    }\n",
       "</style>\n",
       "<table border=\"1\" class=\"dataframe\">\n",
       "  <thead>\n",
       "    <tr style=\"text-align: right;\">\n",
       "      <th></th>\n",
       "      <th>Unnamed: 0</th>\n",
       "      <th>job_title</th>\n",
       "      <th>salary</th>\n",
       "      <th>company</th>\n",
       "      <th>location</th>\n",
       "      <th>is_remote</th>\n",
       "      <th>job_rating</th>\n",
       "      <th>job_summary</th>\n",
       "      <th>post_date</th>\n",
       "      <th>extract_date</th>\n",
       "      <th>...</th>\n",
       "      <th>adjusted_salary</th>\n",
       "      <th>yearly_adjusted_salary</th>\n",
       "      <th>salary_bins</th>\n",
       "      <th>City</th>\n",
       "      <th>Cost of Living Index</th>\n",
       "      <th>Rent Index</th>\n",
       "      <th>Cost of Living Plus Rent Index</th>\n",
       "      <th>Groceries Index</th>\n",
       "      <th>Restaurant Price Index</th>\n",
       "      <th>Local Purchasing Power Index</th>\n",
       "    </tr>\n",
       "  </thead>\n",
       "  <tbody>\n",
       "    <tr>\n",
       "      <td>0</td>\n",
       "      <td>5</td>\n",
       "      <td>Data Scientist Intern</td>\n",
       "      <td>$18 an hour</td>\n",
       "      <td>Hach</td>\n",
       "      <td>New York NY</td>\n",
       "      <td>NaN</td>\n",
       "      <td>3.2</td>\n",
       "      <td>Parameters like pH, alkalinity, disinfectant c...</td>\n",
       "      <td>2 days ago</td>\n",
       "      <td>2021-01-15</td>\n",
       "      <td>...</td>\n",
       "      <td>18.0</td>\n",
       "      <td>43992.0</td>\n",
       "      <td>0 - 100K</td>\n",
       "      <td>New York NY</td>\n",
       "      <td>100.0</td>\n",
       "      <td>100.0</td>\n",
       "      <td>100.0</td>\n",
       "      <td>100.0</td>\n",
       "      <td>100.0</td>\n",
       "      <td>100.0</td>\n",
       "    </tr>\n",
       "    <tr>\n",
       "      <td>1</td>\n",
       "      <td>16</td>\n",
       "      <td>Data Scientist</td>\n",
       "      <td>$88,656 - $222,212 a year</td>\n",
       "      <td>PebblePost</td>\n",
       "      <td>New York NY</td>\n",
       "      <td>Temporarily remote</td>\n",
       "      <td>NaN</td>\n",
       "      <td>Expertise in machine learning techniques.\\nArc...</td>\n",
       "      <td>7 days ago</td>\n",
       "      <td>2021-01-15</td>\n",
       "      <td>...</td>\n",
       "      <td>155434.0</td>\n",
       "      <td>155434.0</td>\n",
       "      <td>100K - 200K</td>\n",
       "      <td>New York NY</td>\n",
       "      <td>100.0</td>\n",
       "      <td>100.0</td>\n",
       "      <td>100.0</td>\n",
       "      <td>100.0</td>\n",
       "      <td>100.0</td>\n",
       "      <td>100.0</td>\n",
       "    </tr>\n",
       "    <tr>\n",
       "      <td>2</td>\n",
       "      <td>89</td>\n",
       "      <td>Search Engine Marketing Data Scientist (Specia...</td>\n",
       "      <td>$80,000 - $135,000 a year</td>\n",
       "      <td>Think Green Supplies LLC</td>\n",
       "      <td>New York NY</td>\n",
       "      <td>NaN</td>\n",
       "      <td>NaN</td>\n",
       "      <td>Experience in data science with a focus on mar...</td>\n",
       "      <td>30+ days ago</td>\n",
       "      <td>2021-01-15</td>\n",
       "      <td>...</td>\n",
       "      <td>107500.0</td>\n",
       "      <td>107500.0</td>\n",
       "      <td>100K - 200K</td>\n",
       "      <td>New York NY</td>\n",
       "      <td>100.0</td>\n",
       "      <td>100.0</td>\n",
       "      <td>100.0</td>\n",
       "      <td>100.0</td>\n",
       "      <td>100.0</td>\n",
       "      <td>100.0</td>\n",
       "    </tr>\n",
       "    <tr>\n",
       "      <td>3</td>\n",
       "      <td>130</td>\n",
       "      <td>Data Scientist</td>\n",
       "      <td>$130,000 - $160,000 a year</td>\n",
       "      <td>Universal Yums LLC</td>\n",
       "      <td>Roseland NJ</td>\n",
       "      <td>Temporarily remote</td>\n",
       "      <td>NaN</td>\n",
       "      <td>We need a data expert with experience in softw...</td>\n",
       "      <td>23 days ago</td>\n",
       "      <td>2021-01-15</td>\n",
       "      <td>...</td>\n",
       "      <td>145000.0</td>\n",
       "      <td>145000.0</td>\n",
       "      <td>100K - 200K</td>\n",
       "      <td>NaN</td>\n",
       "      <td>NaN</td>\n",
       "      <td>NaN</td>\n",
       "      <td>NaN</td>\n",
       "      <td>NaN</td>\n",
       "      <td>NaN</td>\n",
       "      <td>NaN</td>\n",
       "    </tr>\n",
       "    <tr>\n",
       "      <td>4</td>\n",
       "      <td>153</td>\n",
       "      <td>Data Science Resident</td>\n",
       "      <td>$35 an hour</td>\n",
       "      <td>Galvanize</td>\n",
       "      <td>New York NY</td>\n",
       "      <td>NaN</td>\n",
       "      <td>3.8</td>\n",
       "      <td>As part of the Residency program, you will rec...</td>\n",
       "      <td>30+ days ago</td>\n",
       "      <td>2021-01-15</td>\n",
       "      <td>...</td>\n",
       "      <td>35.0</td>\n",
       "      <td>85540.0</td>\n",
       "      <td>0 - 100K</td>\n",
       "      <td>New York NY</td>\n",
       "      <td>100.0</td>\n",
       "      <td>100.0</td>\n",
       "      <td>100.0</td>\n",
       "      <td>100.0</td>\n",
       "      <td>100.0</td>\n",
       "      <td>100.0</td>\n",
       "    </tr>\n",
       "  </tbody>\n",
       "</table>\n",
       "<p>5 rows × 24 columns</p>\n",
       "</div>"
      ],
      "text/plain": [
       "   Unnamed: 0                                          job_title  \\\n",
       "0           5                              Data Scientist Intern   \n",
       "1          16                                     Data Scientist   \n",
       "2          89  Search Engine Marketing Data Scientist (Specia...   \n",
       "3         130                                     Data Scientist   \n",
       "4         153                              Data Science Resident   \n",
       "\n",
       "                       salary                   company     location  \\\n",
       "0                 $18 an hour                      Hach  New York NY   \n",
       "1   $88,656 - $222,212 a year                PebblePost  New York NY   \n",
       "2   $80,000 - $135,000 a year  Think Green Supplies LLC  New York NY   \n",
       "3  $130,000 - $160,000 a year        Universal Yums LLC  Roseland NJ   \n",
       "4                 $35 an hour                 Galvanize  New York NY   \n",
       "\n",
       "            is_remote  job_rating  \\\n",
       "0                 NaN         3.2   \n",
       "1  Temporarily remote         NaN   \n",
       "2                 NaN         NaN   \n",
       "3  Temporarily remote         NaN   \n",
       "4                 NaN         3.8   \n",
       "\n",
       "                                         job_summary     post_date  \\\n",
       "0  Parameters like pH, alkalinity, disinfectant c...    2 days ago   \n",
       "1  Expertise in machine learning techniques.\\nArc...    7 days ago   \n",
       "2  Experience in data science with a focus on mar...  30+ days ago   \n",
       "3  We need a data expert with experience in softw...   23 days ago   \n",
       "4  As part of the Residency program, you will rec...  30+ days ago   \n",
       "\n",
       "  extract_date  ... adjusted_salary yearly_adjusted_salary  salary_bins  \\\n",
       "0   2021-01-15  ...            18.0                43992.0     0 - 100K   \n",
       "1   2021-01-15  ...        155434.0               155434.0  100K - 200K   \n",
       "2   2021-01-15  ...        107500.0               107500.0  100K - 200K   \n",
       "3   2021-01-15  ...        145000.0               145000.0  100K - 200K   \n",
       "4   2021-01-15  ...            35.0                85540.0     0 - 100K   \n",
       "\n",
       "          City  Cost of Living Index  Rent Index  \\\n",
       "0  New York NY                 100.0       100.0   \n",
       "1  New York NY                 100.0       100.0   \n",
       "2  New York NY                 100.0       100.0   \n",
       "3          NaN                   NaN         NaN   \n",
       "4  New York NY                 100.0       100.0   \n",
       "\n",
       "  Cost of Living Plus Rent Index Groceries Index  Restaurant Price Index  \\\n",
       "0                          100.0           100.0                   100.0   \n",
       "1                          100.0           100.0                   100.0   \n",
       "2                          100.0           100.0                   100.0   \n",
       "3                            NaN             NaN                     NaN   \n",
       "4                          100.0           100.0                   100.0   \n",
       "\n",
       "   Local Purchasing Power Index  \n",
       "0                         100.0  \n",
       "1                         100.0  \n",
       "2                         100.0  \n",
       "3                           NaN  \n",
       "4                         100.0  \n",
       "\n",
       "[5 rows x 24 columns]"
      ]
     },
     "execution_count": 54,
     "metadata": {},
     "output_type": "execute_result"
    }
   ],
   "source": [
    "full_df = salary_df.merge(us_cost_living_df, left_on='location', right_on='City', how = 'left')\n",
    "# df = salary_df.merge(COI, left_on='Location2', right_on='City', how = 'left')\n",
    "full_df.head()"
   ]
  },
  {
   "cell_type": "code",
   "execution_count": 55,
   "metadata": {
    "scrolled": false
   },
   "outputs": [
    {
     "data": {
      "image/png": "[encoded data removed]",
      "text/plain": [
       "<Figure size 720x432 with 1 Axes>"
      ]
     },
     "metadata": {},
     "output_type": "display_data"
    }
   ],
   "source": [
    "plt.figure(figsize=(10, 6))\n",
    "\n",
    "city_COI = full_df.groupby('location')['Cost of Living Plus Rent Index'].median().sort_values(ascending=False)[:30]\n",
    "sns.barplot(x = city_COI.index, y = city_COI.values, palette = 'inferno')\n",
    "plt.xticks(rotation='60')\n",
    "plt.ylabel(\"Index\")\n",
    "\n",
    "plt.title(\"Median Cost of Living Plus Rent Index by Location - 30 Cities\");"
   ]
  },
  {
   "cell_type": "code",
   "execution_count": 56,
   "metadata": {},
   "outputs": [
    {
     "data": {
      "text/plain": [
       "(1520, 72)"
      ]
     },
     "execution_count": 56,
     "metadata": {},
     "output_type": "execute_result"
    }
   ],
   "source": [
    "(len(salary_df['location']), len(us_cost_living_df['City']))"
   ]
  },
  {
   "cell_type": "code",
   "execution_count": null,
   "metadata": {},
   "outputs": [],
   "source": []
  },
  {
   "cell_type": "code",
   "execution_count": null,
   "metadata": {},
   "outputs": [],
   "source": []
  },
  {
   "cell_type": "code",
   "execution_count": null,
   "metadata": {},
   "outputs": [],
   "source": []
  },
  {
   "cell_type": "code",
   "execution_count": null,
   "metadata": {},
   "outputs": [],
   "source": []
  },
  {
   "cell_type": "code",
   "execution_count": 57,
   "metadata": {},
   "outputs": [],
   "source": [
    "full_df.to_csv('./data/combined_data.csv')\n",
    "us_cost_living_df.to_csv('./data/us_cost_living.csv')"
   ]
  },
  {
   "cell_type": "code",
   "execution_count": null,
   "metadata": {},
   "outputs": [],
   "source": []
  }
 ],
 "metadata": {
  "kernelspec": {
   "display_name": "Python 3.7 (scrapper_ml)",
   "language": "python",
   "name": "scrapper_ml"
  },
  "language_info": {
   "codemirror_mode": {
    "name": "ipython",
    "version": 3
   },
   "file_extension": ".py",
   "mimetype": "text/x-python",
   "name": "python",
   "nbconvert_exporter": "python",
   "pygments_lexer": "ipython3",
   "version": "3.7.4"
  }
 },
 "nbformat": 4,
 "nbformat_minor": 2
}
