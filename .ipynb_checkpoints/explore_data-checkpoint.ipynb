{
 "cells": [
  {
   "cell_type": "code",
   "execution_count": 12,
   "metadata": {},
   "outputs": [],
   "source": [
    "import numpy as np\n",
    "import pandas as pd\n",
    "import re\n",
    "import calendar\n",
    "\n",
    "import seaborn as sns\n",
    "import matplotlib.style as style\n",
    "\n",
    "\n",
    "import matplotlib as mpl\n",
    "import matplotlib.pyplot as plt\n",
    "import matplotlib.cm as cm\n",
    "%matplotlib inline\n",
    "\n",
    "style.use('fivethirtyeight')"
   ]
  },
  {
   "cell_type": "code",
   "execution_count": 31,
   "metadata": {
    "scrolled": false
   },
   "outputs": [],
   "source": [
    "a = pd.read_csv('outputs/job_postings_data_scientist_Atlanta, GA.csv')\n",
    "b = pd.read_csv('outputs/job_postings_data_scientist_Austin, TX.csv')\n",
    "c = pd.read_csv('outputs/job_postings_data_scientist_Baltimore, MD.csv')\n",
    "d = pd.read_csv('outputs/job_postings_data_scientist_Boston, MA.csv')\n",
    "e = pd.read_csv('outputs/job_postings_data_scientist_Boulder, CO.csv')\n",
    "f = pd.read_csv('outputs/job_postings_data_scientist_Charlotte, NC.csv')\n",
    "g = pd.read_csv('outputs/job_postings_data_scientist_Colorado Springs, CO.csv')\n",
    "h = pd.read_csv('outputs/job_postings_data_scientist_Columbus, OH.csv')\n",
    "i = pd.read_csv('outputs/job_postings_data_scientist_Dallas, TX.csv')\n",
    "j = pd.read_csv('outputs/job_postings_data_scientist_Denver, CO.csv')\n",
    "k = pd.read_csv('outputs/job_postings_data_scientist_Durham, NC.csv')\n",
    "l = pd.read_csv('outputs/job_postings_data_scientist_Hayward, CA.csv')\n",
    "m = pd.read_csv('outputs/job_postings_data_scientist_Houston, TX.csv')\n",
    "n = pd.read_csv('outputs/job_postings_data_scientist_Huntsville, AL.csv')\n",
    "o = pd.read_csv('outputs/job_postings_data_scientist_Los Angeles, CA.csv')\n",
    "p = pd.read_csv('outputs/job_postings_data_scientist_Madison, WI.csv')\n",
    "q = pd.read_csv('outputs/job_postings_data_scientist_New York, NY.csv')\n",
    "r = pd.read_csv('outputs/job_postings_data_scientist_Oakland, CA.csv')\n",
    "s = pd.read_csv('outputs/job_postings_data_scientist_Raleigh, NC.csv')\n",
    "t = pd.read_csv('outputs/job_postings_data_scientist_San Diego, CA.csv')\n",
    "u = pd.read_csv('outputs/job_postings_data_scientist_San Francisco.csv')\n",
    "v = pd.read_csv('outputs/job_postings_data_scientist_San Jose, CA.csv')\n",
    "w = pd.read_csv('outputs/job_postings_data_scientist_Santa Clara, CA.csv')\n",
    "x = pd.read_csv('outputs/job_postings_data_scientist_Seattle, WA.csv')\n",
    "y = pd.read_csv('outputs/job_postings_data_scientist_Sunnyvale, CA.csv')\n",
    "z = pd.read_csv('outputs/job_postings_data_scientist_Trenton, NJ.csv')\n",
    "alfa = pd.read_csv('outputs/job_postings_data_scientist_Washington, D.C..csv')\n",
    "beta = pd.read_csv('outputs/job_postings_data_scientist_all_cities.csv')\n",
    "gamma = pd.read_csv('outputs/job_postings_data_scientist_sf.csv')"
   ]
  },
  {
   "cell_type": "code",
   "execution_count": 32,
   "metadata": {},
   "outputs": [],
   "source": [
    "arr = [a,b,c,d,e,f,g,h,i,j,k,l,m,n,o,p,q,e,s,t,u,v,w,x,y,z,alfa, beta, gamma]\n",
    "df = pd.concat(arr)"
   ]
  },
  {
   "cell_type": "code",
   "execution_count": null,
   "metadata": {},
   "outputs": [],
   "source": []
  },
  {
   "cell_type": "code",
   "execution_count": 33,
   "metadata": {},
   "outputs": [
    {
     "data": {
      "text/plain": [
       "(9450, 10)"
      ]
     },
     "metadata": {},
     "output_type": "display_data"
    },
    {
     "data": {
      "text/plain": [
       "Index(['job_title', 'salary', 'company', 'location', 'is_remote', 'job_rating',\n",
       "       'job_summary', 'post_date', 'extract_date', 'job_url'],\n",
       "      dtype='object')"
      ]
     },
     "metadata": {},
     "output_type": "display_data"
    },
    {
     "name": "stdout",
     "output_type": "stream",
     "text": [
      "--------------------------END--------------------------------\n"
     ]
    }
   ],
   "source": [
    "def getting_to_know(df, question=None):\n",
    "    display(df.shape)\n",
    "    display(df.columns)\n",
    "    if question == 'y':\n",
    "        display(df.head())\n",
    "        display(df.tail())\n",
    "    print('--------------------------END--------------------------------')\n",
    "getting_to_know(df)"
   ]
  },
  {
   "cell_type": "code",
   "execution_count": 34,
   "metadata": {},
   "outputs": [
    {
     "data": {
      "text/html": [
       "<style  type=\"text/css\" >\n",
       "    #T_9aa6f59c_53e1_11eb_b6d7_f2189821d74crow0_col0 {\n",
       "            background-color:  #67000d;\n",
       "            color:  #f1f1f1;\n",
       "        }    #T_9aa6f59c_53e1_11eb_b6d7_f2189821d74crow0_col1 {\n",
       "            background-color:  #67000d;\n",
       "            color:  #f1f1f1;\n",
       "        }    #T_9aa6f59c_53e1_11eb_b6d7_f2189821d74crow1_col0 {\n",
       "            background-color:  #8c0912;\n",
       "            color:  #f1f1f1;\n",
       "        }    #T_9aa6f59c_53e1_11eb_b6d7_f2189821d74crow1_col1 {\n",
       "            background-color:  #8c0912;\n",
       "            color:  #f1f1f1;\n",
       "        }    #T_9aa6f59c_53e1_11eb_b6d7_f2189821d74crow2_col0 {\n",
       "            background-color:  #fff5f0;\n",
       "            color:  #000000;\n",
       "        }    #T_9aa6f59c_53e1_11eb_b6d7_f2189821d74crow2_col1 {\n",
       "            background-color:  #fff5f0;\n",
       "            color:  #000000;\n",
       "        }</style><table id=\"T_9aa6f59c_53e1_11eb_b6d7_f2189821d74c\" ><thead>    <tr>        <th class=\"blank level0\" ></th>        <th class=\"col_heading level0 col0\" >Missing Values Count</th>        <th class=\"col_heading level0 col1\" >% of Total Values</th>    </tr></thead><tbody>\n",
       "                <tr>\n",
       "                        <th id=\"T_9aa6f59c_53e1_11eb_b6d7_f2189821d74clevel0_row0\" class=\"row_heading level0 row0\" >salary</th>\n",
       "                        <td id=\"T_9aa6f59c_53e1_11eb_b6d7_f2189821d74crow0_col0\" class=\"data row0 col0\" >8685</td>\n",
       "                        <td id=\"T_9aa6f59c_53e1_11eb_b6d7_f2189821d74crow0_col1\" class=\"data row0 col1\" >91.9</td>\n",
       "            </tr>\n",
       "            <tr>\n",
       "                        <th id=\"T_9aa6f59c_53e1_11eb_b6d7_f2189821d74clevel0_row1\" class=\"row_heading level0 row1\" >is_remote</th>\n",
       "                        <td id=\"T_9aa6f59c_53e1_11eb_b6d7_f2189821d74crow1_col0\" class=\"data row1 col0\" >8215</td>\n",
       "                        <td id=\"T_9aa6f59c_53e1_11eb_b6d7_f2189821d74crow1_col1\" class=\"data row1 col1\" >86.9</td>\n",
       "            </tr>\n",
       "            <tr>\n",
       "                        <th id=\"T_9aa6f59c_53e1_11eb_b6d7_f2189821d74clevel0_row2\" class=\"row_heading level0 row2\" >job_rating</th>\n",
       "                        <td id=\"T_9aa6f59c_53e1_11eb_b6d7_f2189821d74crow2_col0\" class=\"data row2 col0\" >2528</td>\n",
       "                        <td id=\"T_9aa6f59c_53e1_11eb_b6d7_f2189821d74crow2_col1\" class=\"data row2 col1\" >26.8</td>\n",
       "            </tr>\n",
       "    </tbody></table>"
      ],
      "text/plain": [
       "<pandas.io.formats.style.Styler at 0x7fd6e4a43dd0>"
      ]
     },
     "metadata": {},
     "output_type": "display_data"
    },
    {
     "data": {
      "text/plain": [
       "'Your selected dataframe has  10 features. There are  3 features that have missing values.'"
      ]
     },
     "execution_count": 34,
     "metadata": {},
     "output_type": "execute_result"
    }
   ],
   "source": [
    "# Missing values\n",
    "def missing_values_func(df):\n",
    "    \"\"\"\n",
    "    @author: Cristobal Zamorano Astudillo\n",
    "    \n",
    "    Personalize Missing Data Function\n",
    "    \n",
    "    Paramaters\n",
    "    ----------\n",
    "    df : DataFrame of interest\n",
    "    \n",
    "    Returns\n",
    "    -------\n",
    "    A string with counting all the features of the input DataFrame. If some values are missing, then \n",
    "    function will return a DataFrame with the following:\n",
    "    - Index as the features with the missing values\n",
    "    - A `Missing Values Count` Feature that tells the exact number of rows that has a misssing value in that feature index.\n",
    "    - A `% of Total Values` that tells how much are the missing values of that feature with respect to the other missing values.\n",
    "    \"\"\"\n",
    "    \n",
    "    # Total missing values\n",
    "    mis_val = df.isnull().sum()\n",
    "\n",
    "    # Percentage of missing values\n",
    "    mis_val_percent = 100 * df.isnull().sum() / len(df)\n",
    "\n",
    "    # Make a table with the results\n",
    "    mis_val_table = pd.concat([mis_val, mis_val_percent], axis=1)\n",
    "\n",
    "    # Rename the columns\n",
    "    mis_val_table_ren_columns = mis_val_table.rename(\n",
    "        columns = {0 : 'Missing Values Count', 1 : '% of Total Values'})\n",
    "\n",
    "    # Sort the table by percentage of missing descending\n",
    "    mis_val_table_ren_columns = mis_val_table_ren_columns[\n",
    "        mis_val_table_ren_columns.iloc[:,1] != 0].sort_values(\n",
    "    '% of Total Values', ascending=False).round(1)\n",
    "\n",
    "\n",
    "    # Returns\n",
    "    if mis_val_table_ren_columns.empty:\n",
    "        return f'Your selected dataframe has  {df.shape[1]} features. There are  {mis_val_table_ren_columns.shape[0]} features that have missing values.'\n",
    "    else:\n",
    "        display(mis_val_table_ren_columns.style.background_gradient(cmap='Reds'))\n",
    "        return f'Your selected dataframe has  {df.shape[1]} features. There are  {mis_val_table_ren_columns.shape[0]} features that have missing values.'\n",
    "        \n",
    "missing_values_func(df)"
   ]
  },
  {
   "cell_type": "code",
   "execution_count": 35,
   "metadata": {},
   "outputs": [
    {
     "data": {
      "text/plain": [
       "Data Scientist                                                                                 961\n",
       "Senior Data Scientist                                                                          344\n",
       "Machine Learning Engineer                                                                      183\n",
       "Senior Data Analyst                                                                            139\n",
       "Senior Machine Learning Engineer                                                                69\n",
       "                                                                                              ... \n",
       "Government & Public Sector - Data Science Senior Consultant - McLean, VA (SECRET CLEARANCE)      1\n",
       "Junior/Senior Statistical Programmer Analyst Consultant                                          1\n",
       "Data Scientist - Machine Learning scientist                                                      1\n",
       "Senior Data Analyst, Growth Marketing                                                            1\n",
       "Research Project Assistant I - Data Science                                                      1\n",
       "Name: job_title, Length: 2913, dtype: int64"
      ]
     },
     "execution_count": 35,
     "metadata": {},
     "output_type": "execute_result"
    }
   ],
   "source": [
    "df['job_title'].value_counts()"
   ]
  },
  {
   "cell_type": "code",
   "execution_count": 36,
   "metadata": {},
   "outputs": [
    {
     "data": {
      "text/plain": [
       "$77.55 - $82.55 an hour       37\n",
       "$60 - $70 an hour             27\n",
       "$126,000 - $165,000 a year    22\n",
       "$250,000 a year               22\n",
       "$125,000 - $300,000 a year    18\n",
       "                              ..\n",
       "$55,000 - $60,000 a year       1\n",
       "$145,000 - $190,000 a year     1\n",
       "$110,000 - $135,000 a year     1\n",
       "$155,000 - $160,000 a year     1\n",
       "$130,000 - $175,000 a year     1\n",
       "Name: salary, Length: 213, dtype: int64"
      ]
     },
     "execution_count": 36,
     "metadata": {},
     "output_type": "execute_result"
    }
   ],
   "source": [
    "df['salary'].value_counts()"
   ]
  },
  {
   "cell_type": "code",
   "execution_count": 37,
   "metadata": {},
   "outputs": [
    {
     "data": {
      "text/plain": [
       "Remote                791\n",
       "Temporarily remote    444\n",
       "Name: is_remote, dtype: int64"
      ]
     },
     "execution_count": 37,
     "metadata": {},
     "output_type": "execute_result"
    }
   ],
   "source": [
    "df['is_remote'].value_counts()  "
   ]
  },
  {
   "cell_type": "code",
   "execution_count": 38,
   "metadata": {},
   "outputs": [
    {
     "data": {
      "text/plain": [
       "job_title                                     Lead Data Scientist\n",
       "salary                                                        NaN\n",
       "company                                                   Nielsen\n",
       "location                                             Columbia, MD\n",
       "is_remote                                                     NaN\n",
       "job_rating                                                    3.8\n",
       "job_summary     Knowledge of ETL pipelining and data warehousi...\n",
       "post_date                                             27 days ago\n",
       "extract_date                                           2021-01-10\n",
       "job_url         https://www.indeed.com/rc/clk?jk=ab2b326fb9236...\n",
       "Name: 72, dtype: object"
      ]
     },
     "execution_count": 38,
     "metadata": {},
     "output_type": "execute_result"
    }
   ],
   "source": [
    "df.iloc[402]"
   ]
  },
  {
   "cell_type": "code",
   "execution_count": null,
   "metadata": {},
   "outputs": [],
   "source": []
  }
 ],
 "metadata": {
  "kernelspec": {
   "display_name": "Python 3.7 (scrapper_ml)",
   "language": "python",
   "name": "scrapper_ml"
  },
  "language_info": {
   "codemirror_mode": {
    "name": "ipython",
    "version": 3
   },
   "file_extension": ".py",
   "mimetype": "text/x-python",
   "name": "python",
   "nbconvert_exporter": "python",
   "pygments_lexer": "ipython3",
   "version": "3.7.4"
  }
 },
 "nbformat": 4,
 "nbformat_minor": 2
}
