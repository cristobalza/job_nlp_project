{
 "cells": [
  {
   "cell_type": "code",
   "execution_count": 12,
   "metadata": {},
   "outputs": [],
   "source": [
    "import numpy as np\n",
    "import pandas as pd\n",
    "import re\n",
    "import calendar\n",
    "\n",
    "import seaborn as sns\n",
    "import matplotlib.style as style\n",
    "\n",
    "\n",
    "import matplotlib as mpl\n",
    "import matplotlib.pyplot as plt\n",
    "import matplotlib.cm as cm\n",
    "%matplotlib inline\n",
    "\n",
    "style.use('fivethirtyeight')"
   ]
  },
  {
   "cell_type": "code",
   "execution_count": 15,
   "metadata": {
    "scrolled": false
   },
   "outputs": [
    {
     "data": {
      "text/html": [
       "<div>\n",
       "<style scoped>\n",
       "    .dataframe tbody tr th:only-of-type {\n",
       "        vertical-align: middle;\n",
       "    }\n",
       "\n",
       "    .dataframe tbody tr th {\n",
       "        vertical-align: top;\n",
       "    }\n",
       "\n",
       "    .dataframe thead th {\n",
       "        text-align: right;\n",
       "    }\n",
       "</style>\n",
       "<table border=\"1\" class=\"dataframe\">\n",
       "  <thead>\n",
       "    <tr style=\"text-align: right;\">\n",
       "      <th></th>\n",
       "      <th>job_title</th>\n",
       "      <th>salary</th>\n",
       "      <th>company</th>\n",
       "      <th>location</th>\n",
       "      <th>is_remote</th>\n",
       "      <th>job_rating</th>\n",
       "      <th>job_summary</th>\n",
       "      <th>post_date</th>\n",
       "      <th>extract_date</th>\n",
       "      <th>job_url</th>\n",
       "    </tr>\n",
       "  </thead>\n",
       "  <tbody>\n",
       "    <tr>\n",
       "      <td>0</td>\n",
       "      <td>Data Scientist</td>\n",
       "      <td>$102,663 - $157,709 a year</td>\n",
       "      <td>National Security Agency</td>\n",
       "      <td>Fort Meade, MD</td>\n",
       "      <td>NaN</td>\n",
       "      <td>4.2</td>\n",
       "      <td>Relevant experience must be in designing/imple...</td>\n",
       "      <td>25 days ago</td>\n",
       "      <td>2021-01-10</td>\n",
       "      <td>https://www.indeed.com/pagead/clk?mo=r&amp;ad=-6NY...</td>\n",
       "    </tr>\n",
       "    <tr>\n",
       "      <td>1</td>\n",
       "      <td>Data Scientist</td>\n",
       "      <td>NaN</td>\n",
       "      <td>Orangetheory Fitness</td>\n",
       "      <td>Washington, DC</td>\n",
       "      <td>NaN</td>\n",
       "      <td>3.4</td>\n",
       "      <td>Experience in machine learning, analytics and/...</td>\n",
       "      <td>2 days ago</td>\n",
       "      <td>2021-01-10</td>\n",
       "      <td>https://www.indeed.com/rc/clk?jk=60ca99bf7f8b5...</td>\n",
       "    </tr>\n",
       "    <tr>\n",
       "      <td>2</td>\n",
       "      <td>Data Scientist</td>\n",
       "      <td>$76,228 - $162,994 a year</td>\n",
       "      <td>Valsatech Corp</td>\n",
       "      <td>Washington, DC</td>\n",
       "      <td>Temporarily remote</td>\n",
       "      <td>4.6</td>\n",
       "      <td>Data manipulation and data engineering experie...</td>\n",
       "      <td>3 days ago</td>\n",
       "      <td>2021-01-10</td>\n",
       "      <td>https://www.indeed.com/company/Valsatech-Corp/...</td>\n",
       "    </tr>\n",
       "    <tr>\n",
       "      <td>3</td>\n",
       "      <td>Data Scientist</td>\n",
       "      <td>$120,000 - $160,000 a year</td>\n",
       "      <td>Urbane Systems LLC</td>\n",
       "      <td>Washington, DC</td>\n",
       "      <td>Temporarily remote</td>\n",
       "      <td>NaN</td>\n",
       "      <td>Investigate and implement new scientific analy...</td>\n",
       "      <td>25 days ago</td>\n",
       "      <td>2021-01-10</td>\n",
       "      <td>https://www.indeed.com/company/Urbane-Systems-...</td>\n",
       "    </tr>\n",
       "    <tr>\n",
       "      <td>4</td>\n",
       "      <td>Federal - Data Scientist</td>\n",
       "      <td>NaN</td>\n",
       "      <td>Accenture</td>\n",
       "      <td>Washington, DC</td>\n",
       "      <td>NaN</td>\n",
       "      <td>4.0</td>\n",
       "      <td>Experience with analytics, statistical modelin...</td>\n",
       "      <td>3 days ago</td>\n",
       "      <td>2021-01-10</td>\n",
       "      <td>https://www.indeed.com/rc/clk?jk=5c1bfa7eaea6e...</td>\n",
       "    </tr>\n",
       "  </tbody>\n",
       "</table>\n",
       "</div>"
      ],
      "text/plain": [
       "                  job_title                      salary  \\\n",
       "0            Data Scientist  $102,663 - $157,709 a year   \n",
       "1            Data Scientist                         NaN   \n",
       "2            Data Scientist   $76,228 - $162,994 a year   \n",
       "3            Data Scientist  $120,000 - $160,000 a year   \n",
       "4  Federal - Data Scientist                         NaN   \n",
       "\n",
       "                    company        location           is_remote  job_rating  \\\n",
       "0  National Security Agency  Fort Meade, MD                 NaN         4.2   \n",
       "1      Orangetheory Fitness  Washington, DC                 NaN         3.4   \n",
       "2            Valsatech Corp  Washington, DC  Temporarily remote         4.6   \n",
       "3        Urbane Systems LLC  Washington, DC  Temporarily remote         NaN   \n",
       "4                 Accenture  Washington, DC                 NaN         4.0   \n",
       "\n",
       "                                         job_summary    post_date  \\\n",
       "0  Relevant experience must be in designing/imple...  25 days ago   \n",
       "1  Experience in machine learning, analytics and/...   2 days ago   \n",
       "2  Data manipulation and data engineering experie...   3 days ago   \n",
       "3  Investigate and implement new scientific analy...  25 days ago   \n",
       "4  Experience with analytics, statistical modelin...   3 days ago   \n",
       "\n",
       "  extract_date                                            job_url  \n",
       "0   2021-01-10  https://www.indeed.com/pagead/clk?mo=r&ad=-6NY...  \n",
       "1   2021-01-10  https://www.indeed.com/rc/clk?jk=60ca99bf7f8b5...  \n",
       "2   2021-01-10  https://www.indeed.com/company/Valsatech-Corp/...  \n",
       "3   2021-01-10  https://www.indeed.com/company/Urbane-Systems-...  \n",
       "4   2021-01-10  https://www.indeed.com/rc/clk?jk=5c1bfa7eaea6e...  "
      ]
     },
     "execution_count": 15,
     "metadata": {},
     "output_type": "execute_result"
    }
   ],
   "source": [
    "df = pd.read_csv('outputs/job_postings_data_scientist_all_cities.csv')\n",
    "df.head()"
   ]
  },
  {
   "cell_type": "code",
   "execution_count": 16,
   "metadata": {},
   "outputs": [
    {
     "data": {
      "text/plain": [
       "(721, 10)"
      ]
     },
     "metadata": {},
     "output_type": "display_data"
    },
    {
     "data": {
      "text/plain": [
       "Index(['job_title', 'salary', 'company', 'location', 'is_remote', 'job_rating',\n",
       "       'job_summary', 'post_date', 'extract_date', 'job_url'],\n",
       "      dtype='object')"
      ]
     },
     "metadata": {},
     "output_type": "display_data"
    },
    {
     "name": "stdout",
     "output_type": "stream",
     "text": [
      "--------------------------END--------------------------------\n"
     ]
    }
   ],
   "source": [
    "def getting_to_know(df, question=None):\n",
    "    display(df.shape)\n",
    "    display(df.columns)\n",
    "    if question == 'y':\n",
    "        display(df.head())\n",
    "        display(df.tail())\n",
    "    print('--------------------------END--------------------------------')\n",
    "getting_to_know(df)"
   ]
  },
  {
   "cell_type": "code",
   "execution_count": 17,
   "metadata": {},
   "outputs": [
    {
     "data": {
      "text/html": [
       "<style  type=\"text/css\" >\n",
       "    #T_4c159994_53c6_11eb_b6d7_f2189821d74crow0_col0 {\n",
       "            background-color:  #67000d;\n",
       "            color:  #f1f1f1;\n",
       "        }    #T_4c159994_53c6_11eb_b6d7_f2189821d74crow0_col1 {\n",
       "            background-color:  #67000d;\n",
       "            color:  #f1f1f1;\n",
       "        }    #T_4c159994_53c6_11eb_b6d7_f2189821d74crow1_col0 {\n",
       "            background-color:  #7c0510;\n",
       "            color:  #f1f1f1;\n",
       "        }    #T_4c159994_53c6_11eb_b6d7_f2189821d74crow1_col1 {\n",
       "            background-color:  #7e0610;\n",
       "            color:  #f1f1f1;\n",
       "        }    #T_4c159994_53c6_11eb_b6d7_f2189821d74crow2_col0 {\n",
       "            background-color:  #fff5f0;\n",
       "            color:  #000000;\n",
       "        }    #T_4c159994_53c6_11eb_b6d7_f2189821d74crow2_col1 {\n",
       "            background-color:  #fff5f0;\n",
       "            color:  #000000;\n",
       "        }</style><table id=\"T_4c159994_53c6_11eb_b6d7_f2189821d74c\" ><thead>    <tr>        <th class=\"blank level0\" ></th>        <th class=\"col_heading level0 col0\" >Missing Values Count</th>        <th class=\"col_heading level0 col1\" >% of Total Values</th>    </tr></thead><tbody>\n",
       "                <tr>\n",
       "                        <th id=\"T_4c159994_53c6_11eb_b6d7_f2189821d74clevel0_row0\" class=\"row_heading level0 row0\" >salary</th>\n",
       "                        <td id=\"T_4c159994_53c6_11eb_b6d7_f2189821d74crow0_col0\" class=\"data row0 col0\" >635</td>\n",
       "                        <td id=\"T_4c159994_53c6_11eb_b6d7_f2189821d74crow0_col1\" class=\"data row0 col1\" >88.1</td>\n",
       "            </tr>\n",
       "            <tr>\n",
       "                        <th id=\"T_4c159994_53c6_11eb_b6d7_f2189821d74clevel0_row1\" class=\"row_heading level0 row1\" >is_remote</th>\n",
       "                        <td id=\"T_4c159994_53c6_11eb_b6d7_f2189821d74crow1_col0\" class=\"data row1 col0\" >615</td>\n",
       "                        <td id=\"T_4c159994_53c6_11eb_b6d7_f2189821d74crow1_col1\" class=\"data row1 col1\" >85.3</td>\n",
       "            </tr>\n",
       "            <tr>\n",
       "                        <th id=\"T_4c159994_53c6_11eb_b6d7_f2189821d74clevel0_row2\" class=\"row_heading level0 row2\" >job_rating</th>\n",
       "                        <td id=\"T_4c159994_53c6_11eb_b6d7_f2189821d74crow2_col0\" class=\"data row2 col0\" >206</td>\n",
       "                        <td id=\"T_4c159994_53c6_11eb_b6d7_f2189821d74crow2_col1\" class=\"data row2 col1\" >28.6</td>\n",
       "            </tr>\n",
       "    </tbody></table>"
      ],
      "text/plain": [
       "<pandas.io.formats.style.Styler at 0x7fd6e453bf10>"
      ]
     },
     "metadata": {},
     "output_type": "display_data"
    },
    {
     "data": {
      "text/plain": [
       "'Your selected dataframe has  10 features. There are  3 features that have missing values.'"
      ]
     },
     "execution_count": 17,
     "metadata": {},
     "output_type": "execute_result"
    }
   ],
   "source": [
    "# Missing values\n",
    "def missing_values_func(df):\n",
    "    \"\"\"\n",
    "    @author: Cristobal Zamorano Astudillo\n",
    "    \n",
    "    Personalize Missing Data Function\n",
    "    \n",
    "    Paramaters\n",
    "    ----------\n",
    "    df : DataFrame of interest\n",
    "    \n",
    "    Returns\n",
    "    -------\n",
    "    A string with counting all the features of the input DataFrame. If some values are missing, then \n",
    "    function will return a DataFrame with the following:\n",
    "    - Index as the features with the missing values\n",
    "    - A `Missing Values Count` Feature that tells the exact number of rows that has a misssing value in that feature index.\n",
    "    - A `% of Total Values` that tells how much are the missing values of that feature with respect to the other missing values.\n",
    "    \"\"\"\n",
    "    \n",
    "    # Total missing values\n",
    "    mis_val = df.isnull().sum()\n",
    "\n",
    "    # Percentage of missing values\n",
    "    mis_val_percent = 100 * df.isnull().sum() / len(df)\n",
    "\n",
    "    # Make a table with the results\n",
    "    mis_val_table = pd.concat([mis_val, mis_val_percent], axis=1)\n",
    "\n",
    "    # Rename the columns\n",
    "    mis_val_table_ren_columns = mis_val_table.rename(\n",
    "        columns = {0 : 'Missing Values Count', 1 : '% of Total Values'})\n",
    "\n",
    "    # Sort the table by percentage of missing descending\n",
    "    mis_val_table_ren_columns = mis_val_table_ren_columns[\n",
    "        mis_val_table_ren_columns.iloc[:,1] != 0].sort_values(\n",
    "    '% of Total Values', ascending=False).round(1)\n",
    "\n",
    "\n",
    "    # Returns\n",
    "    if mis_val_table_ren_columns.empty:\n",
    "        return f'Your selected dataframe has  {df.shape[1]} features. There are  {mis_val_table_ren_columns.shape[0]} features that have missing values.'\n",
    "    else:\n",
    "        display(mis_val_table_ren_columns.style.background_gradient(cmap='Reds'))\n",
    "        return f'Your selected dataframe has  {df.shape[1]} features. There are  {mis_val_table_ren_columns.shape[0]} features that have missing values.'\n",
    "        \n",
    "missing_values_func(df)"
   ]
  },
  {
   "cell_type": "code",
   "execution_count": 18,
   "metadata": {},
   "outputs": [
    {
     "data": {
      "text/plain": [
       "Data Scientist                                     128\n",
       "Senior Data Scientist                               32\n",
       "Senior Data Analyst                                 13\n",
       "Data Scientist, Mid                                  9\n",
       "Senior Statistician                                  8\n",
       "                                                  ... \n",
       "SENIOR DATA ANALYST - PATIENT-CENTERED RESEARCH      1\n",
       "Network Engineer/Data Scientist                      1\n",
       "Senior Data Analyst - Health                         1\n",
       "Data Analyst I - Data Science Team                   1\n",
       "Research Scientist - Machine Learning                1\n",
       "Name: job_title, Length: 395, dtype: int64"
      ]
     },
     "execution_count": 18,
     "metadata": {},
     "output_type": "execute_result"
    }
   ],
   "source": [
    "df['job_title'].value_counts()"
   ]
  },
  {
   "cell_type": "code",
   "execution_count": 19,
   "metadata": {},
   "outputs": [
    {
     "data": {
      "text/plain": [
       "$102,663 - $157,709 a year    8\n",
       "$126,000 - $165,000 a year    7\n",
       "$72,351 - $90,157 a year      6\n",
       "$70,000 a year                4\n",
       "$122,530 - $159,286 a year    3\n",
       "$150,000 - $190,000 a year    2\n",
       "$60 - $65 an hour             2\n",
       "$60 - $80 an hour             2\n",
       "$73,973 - $112,240 a year     2\n",
       "$125,000 - $150,000 a year    2\n",
       "$117,265 - $165,084 a year    2\n",
       "$175,000 - $190,000 a year    2\n",
       "$79,521 - $90,000 a year      2\n",
       "$90,000 - $130,000 a year     2\n",
       "$90,000 - $150,000 a year     2\n",
       "$100,000 - $200,000 a year    2\n",
       "$75,000 - $140,000 a year     2\n",
       "$102,663 - $142,958 a year    2\n",
       "$87,198 - $134,798 a year     2\n",
       "$145,000 - $190,000 a year    1\n",
       "$120,000 - $160,000 a year    1\n",
       "$92,211 - $169,987 a year     1\n",
       "$155,000 - $160,000 a year    1\n",
       "$51,102 - $81,263 a year      1\n",
       "$76,228 - $162,994 a year     1\n",
       "$105,000 - $150,000 a year    1\n",
       "From $75,000 a year           1\n",
       "From $55,000 a year           1\n",
       "$150,000 - $200,000 a year    1\n",
       "$96,516 - $135,395 a year     1\n",
       "$121,316 - $157,709 a year    1\n",
       "$70,000 - $180,000 a year     1\n",
       "$125,000 a year               1\n",
       "$150,000 a year               1\n",
       "$174,225 - $194,516 a year    1\n",
       "$131,239 - $197,300 a year    1\n",
       "$75,000 - $135,000 a year     1\n",
       "$142,701 - $170,800 a year    1\n",
       "$63,503 - $157,709 a year     1\n",
       "$147,874 - $251,385 a year    1\n",
       "$76,010 - $120,000 a year     1\n",
       "$102,663 - $133,465 a year    1\n",
       "$49,157 - $94,581 a year      1\n",
       "$110,000 - $170,000 a year    1\n",
       "$100,000 - $150,000 a year    1\n",
       "$100,319 - $152,137 a year    1\n",
       "$100,000 - $170,000 a year    1\n",
       "$82,479 - $240,000 a year     1\n",
       "$55,000 - $65,000 a year      1\n",
       "Name: salary, dtype: int64"
      ]
     },
     "execution_count": 19,
     "metadata": {},
     "output_type": "execute_result"
    }
   ],
   "source": [
    "df['salary'].value_counts()"
   ]
  },
  {
   "cell_type": "code",
   "execution_count": 22,
   "metadata": {},
   "outputs": [
    {
     "data": {
      "text/plain": [
       "Remote                69\n",
       "Temporarily remote    37\n",
       "Name: is_remote, dtype: int64"
      ]
     },
     "execution_count": 22,
     "metadata": {},
     "output_type": "execute_result"
    }
   ],
   "source": [
    "df['is_remote'].value_counts()  "
   ]
  },
  {
   "cell_type": "code",
   "execution_count": 21,
   "metadata": {},
   "outputs": [
    {
     "data": {
      "text/plain": [
       "job_title                                     Senior Statistician\n",
       "salary                                                        NaN\n",
       "company                                     DevTech Systems, Inc.\n",
       "location                                           Washington, DC\n",
       "is_remote                                                     NaN\n",
       "job_rating                                                    3.4\n",
       "job_summary     The Senior Statistician will develop technical...\n",
       "post_date                                             26 days ago\n",
       "extract_date                                           2021-01-10\n",
       "job_url         https://www.indeed.com/rc/clk?jk=294d2a3a548dd...\n",
       "Name: 402, dtype: object"
      ]
     },
     "execution_count": 21,
     "metadata": {},
     "output_type": "execute_result"
    }
   ],
   "source": [
    "df.iloc[402]"
   ]
  },
  {
   "cell_type": "code",
   "execution_count": null,
   "metadata": {},
   "outputs": [],
   "source": []
  }
 ],
 "metadata": {
  "kernelspec": {
   "display_name": "Python 3.7 (scrapper_ml)",
   "language": "python",
   "name": "scrapper_ml"
  },
  "language_info": {
   "codemirror_mode": {
    "name": "ipython",
    "version": 3
   },
   "file_extension": ".py",
   "mimetype": "text/x-python",
   "name": "python",
   "nbconvert_exporter": "python",
   "pygments_lexer": "ipython3",
   "version": "3.7.4"
  }
 },
 "nbformat": 4,
 "nbformat_minor": 2
}
