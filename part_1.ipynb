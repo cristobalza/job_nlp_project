{
 "cells": [
  {
   "cell_type": "markdown",
   "metadata": {},
   "source": [
    "# Part 1 : Indeed Data\n",
    "\n",
    "General Overview:\n",
    "\n",
    "1. Understand the shape of the data\n",
    "2. Data Cleaning \n",
    "3. Data Preprocessing for Model \n",
    "4. Data Exploration"
   ]
  },
  {
   "cell_type": "code",
   "execution_count": 1,
   "metadata": {},
   "outputs": [],
   "source": [
    "import numpy as np\n",
    "import pandas as pd\n",
    "import re\n",
    "import calendar\n",
    "\n",
    "import seaborn as sns\n",
    "import matplotlib.style as style\n",
    "\n",
    "import matplotlib as mpl\n",
    "import matplotlib.pyplot as plt\n",
    "import matplotlib.cm as cm\n",
    "%matplotlib inline\n",
    "\n",
    "style.use('fivethirtyeight')"
   ]
  },
  {
   "cell_type": "code",
   "execution_count": 2,
   "metadata": {
    "scrolled": false
   },
   "outputs": [],
   "source": [
    "# Data Scientists Job Postings\n",
    "a = pd.read_csv('outputs/job_postings_data_scientist_Atlanta, GA.csv')\n",
    "b = pd.read_csv('outputs/job_postings_data_scientist_Austin, TX.csv')\n",
    "c = pd.read_csv('outputs/job_postings_data_scientist_Baltimore, MD.csv')\n",
    "d = pd.read_csv('outputs/job_postings_data_scientist_Boston, MA.csv')\n",
    "e = pd.read_csv('outputs/job_postings_data_scientist_Boulder, CO.csv')\n",
    "f = pd.read_csv('outputs/job_postings_data_scientist_Charlotte, NC.csv')\n",
    "g = pd.read_csv('outputs/job_postings_data_scientist_Colorado Springs, CO.csv')\n",
    "h = pd.read_csv('outputs/job_postings_data_scientist_Columbus, OH.csv')\n",
    "i = pd.read_csv('outputs/job_postings_data_scientist_Dallas, TX.csv')\n",
    "j = pd.read_csv('outputs/job_postings_data_scientist_Denver, CO.csv')\n",
    "k = pd.read_csv('outputs/job_postings_data_scientist_Durham, NC.csv')\n",
    "l = pd.read_csv('outputs/job_postings_data_scientist_Hayward, CA.csv')\n",
    "m = pd.read_csv('outputs/job_postings_data_scientist_Houston, TX.csv')\n",
    "n = pd.read_csv('outputs/job_postings_data_scientist_Huntsville, AL.csv')\n",
    "o = pd.read_csv('outputs/job_postings_data_scientist_Los Angeles, CA.csv')\n",
    "p = pd.read_csv('outputs/job_postings_data_scientist_Madison, WI.csv')\n",
    "q = pd.read_csv('outputs/job_postings_data_scientist_New York, NY.csv')\n",
    "r = pd.read_csv('outputs/job_postings_data_scientist_Oakland, CA.csv')\n",
    "s = pd.read_csv('outputs/job_postings_data_scientist_Raleigh, NC.csv')\n",
    "t = pd.read_csv('outputs/job_postings_data_scientist_San Diego, CA.csv')\n",
    "u = pd.read_csv('outputs/job_postings_data_scientist_San Francisco.csv')\n",
    "v = pd.read_csv('outputs/job_postings_data_scientist_San Jose, CA.csv')\n",
    "w = pd.read_csv('outputs/job_postings_data_scientist_Santa Clara, CA.csv')\n",
    "x = pd.read_csv('outputs/job_postings_data_scientist_Seattle, WA.csv')\n",
    "y = pd.read_csv('outputs/job_postings_data_scientist_Sunnyvale, CA.csv')\n",
    "z = pd.read_csv('outputs/job_postings_data_scientist_Trenton, NJ.csv')\n",
    "alfa = pd.read_csv('outputs/job_postings_data_scientist_Washington, D.C..csv')\n",
    "beta = pd.read_csv('outputs/job_postings_data_scientist_all_cities.csv')\n",
    "gamma = pd.read_csv('outputs/job_postings_data_scientist_sf.csv')"
   ]
  },
  {
   "cell_type": "code",
   "execution_count": 3,
   "metadata": {},
   "outputs": [],
   "source": [
    "arr = [a,b,c,d,e,f,g,h,i,j,k,l,m,n,o,p,q,e,s,t,u,v,w,x,y,z,alfa, beta, gamma]\n",
    "df_1 = pd.concat(arr)"
   ]
  },
  {
   "cell_type": "code",
   "execution_count": 4,
   "metadata": {},
   "outputs": [],
   "source": [
    "# Data Analyst Job Postings\n",
    "a = pd.read_csv('outputs_2/job_postings_data_analyst_Atlanta, GA.csv')\n",
    "b = pd.read_csv('outputs_2/job_postings_data_analyst_Austin, TX.csv')\n",
    "c = pd.read_csv('outputs_2/job_postings_data_analyst_Baltimore, MD.csv')\n",
    "d = pd.read_csv('outputs_2/job_postings_data_analyst_Boston, MA.csv')\n",
    "e = pd.read_csv('outputs_2/job_postings_data_analyst_Boulder, CO.csv')\n",
    "f = pd.read_csv('outputs_2/job_postings_data_analyst_Charlotte, NC.csv')\n",
    "g = pd.read_csv('outputs_2/job_postings_data_analyst_Colorado Springs, CO.csv')\n",
    "h = pd.read_csv('outputs_2/job_postings_data_analyst_Columbus, OH.csv')\n",
    "i = pd.read_csv('outputs_2/job_postings_data_analyst_Dallas, TX.csv')\n",
    "j = pd.read_csv('outputs_2/job_postings_data_analyst_Denver, CO.csv')\n",
    "k = pd.read_csv('outputs_2/job_postings_data_analyst_Durham, NC.csv')\n",
    "l = pd.read_csv('outputs_2/job_postings_data_analyst_Hayward, CA.csv')\n",
    "m = pd.read_csv('outputs_2/job_postings_data_analyst_Houston, TX.csv')\n",
    "n = pd.read_csv('outputs_2/job_postings_data_analyst_Huntsville, AL.csv')\n",
    "o = pd.read_csv('outputs_2/job_postings_data_analyst_Los Angeles, CA.csv')\n",
    "p = pd.read_csv('outputs_2/job_postings_data_analyst_Madison, WI.csv')\n",
    "q = pd.read_csv('outputs_2/job_postings_data_analyst_New York, NY.csv')\n",
    "r = pd.read_csv('outputs_2/job_postings_data_analyst_Oakland, CA.csv')\n",
    "s = pd.read_csv('outputs_2/job_postings_data_analyst_Raleigh, NC.csv')\n",
    "t = pd.read_csv('outputs_2/job_postings_data_analyst_San Diego, CA.csv')\n",
    "u = pd.read_csv('outputs_2/job_postings_data_analyst_San Francisco.csv')\n",
    "v = pd.read_csv('outputs_2/job_postings_data_analyst_San Jose, CA.csv')\n",
    "w = pd.read_csv('outputs_2/job_postings_data_analyst_Santa Clara, CA.csv')\n",
    "x = pd.read_csv('outputs_2/job_postings_data_analyst_Seattle, WA.csv')\n",
    "y = pd.read_csv('outputs_2/job_postings_data_analyst_Sunnyvale, CA.csv')\n",
    "z = pd.read_csv('outputs_2/job_postings_data_analyst_Trenton, NJ.csv')\n",
    "alfa = pd.read_csv('outputs_2/job_postings_data_analyst_Washington, D.C..csv')"
   ]
  },
  {
   "cell_type": "code",
   "execution_count": 5,
   "metadata": {},
   "outputs": [],
   "source": [
    "arr = [a,b,c,d,e,f,g,h,i,j,k,l,m,n,o,p,q,e,s,t,u,v,w,x,y,z,alfa]\n",
    "df_2 = pd.concat(arr)"
   ]
  },
  {
   "cell_type": "code",
   "execution_count": 6,
   "metadata": {},
   "outputs": [],
   "source": [
    "temp = [df_1, df_2]\n",
    "df = pd.concat(temp)"
   ]
  },
  {
   "cell_type": "markdown",
   "metadata": {},
   "source": [
    "## 1. Understanding the shape of the data"
   ]
  },
  {
   "cell_type": "code",
   "execution_count": 7,
   "metadata": {},
   "outputs": [
    {
     "data": {
      "text/plain": [
       "(16038, 10)"
      ]
     },
     "metadata": {},
     "output_type": "display_data"
    },
    {
     "data": {
      "text/plain": [
       "Index(['job_title', 'salary', 'company', 'location', 'is_remote', 'job_rating',\n",
       "       'job_summary', 'post_date', 'extract_date', 'job_url'],\n",
       "      dtype='object')"
      ]
     },
     "metadata": {},
     "output_type": "display_data"
    },
    {
     "name": "stdout",
     "output_type": "stream",
     "text": [
      "--------------------------END--------------------------------\n"
     ]
    }
   ],
   "source": [
    "def getting_to_know(df, question=None):\n",
    "    display(df.shape)\n",
    "    display(df.columns)\n",
    "    if question == 'y':\n",
    "        display(df.head())\n",
    "        display(df.tail())\n",
    "    print('--------------------------END--------------------------------')\n",
    "getting_to_know(df)"
   ]
  },
  {
   "cell_type": "code",
   "execution_count": 8,
   "metadata": {},
   "outputs": [
    {
     "data": {
      "text/html": [
       "<style  type=\"text/css\" >\n",
       "    #T_4e78c7ce_56a0_11eb_957c_f2189821d74crow0_col0 {\n",
       "            background-color:  #67000d;\n",
       "            color:  #f1f1f1;\n",
       "        }    #T_4e78c7ce_56a0_11eb_957c_f2189821d74crow0_col1 {\n",
       "            background-color:  #67000d;\n",
       "            color:  #f1f1f1;\n",
       "        }    #T_4e78c7ce_56a0_11eb_957c_f2189821d74crow1_col0 {\n",
       "            background-color:  #77040f;\n",
       "            color:  #f1f1f1;\n",
       "        }    #T_4e78c7ce_56a0_11eb_957c_f2189821d74crow1_col1 {\n",
       "            background-color:  #77040f;\n",
       "            color:  #f1f1f1;\n",
       "        }    #T_4e78c7ce_56a0_11eb_957c_f2189821d74crow2_col0 {\n",
       "            background-color:  #fca98c;\n",
       "            color:  #000000;\n",
       "        }    #T_4e78c7ce_56a0_11eb_957c_f2189821d74crow2_col1 {\n",
       "            background-color:  #fca98c;\n",
       "            color:  #000000;\n",
       "        }    #T_4e78c7ce_56a0_11eb_957c_f2189821d74crow3_col0 {\n",
       "            background-color:  #fff5f0;\n",
       "            color:  #000000;\n",
       "        }    #T_4e78c7ce_56a0_11eb_957c_f2189821d74crow3_col1 {\n",
       "            background-color:  #fff5f0;\n",
       "            color:  #000000;\n",
       "        }</style><table id=\"T_4e78c7ce_56a0_11eb_957c_f2189821d74c\" ><thead>    <tr>        <th class=\"blank level0\" ></th>        <th class=\"col_heading level0 col0\" >Missing Values Count</th>        <th class=\"col_heading level0 col1\" >% of Total Values</th>    </tr></thead><tbody>\n",
       "                <tr>\n",
       "                        <th id=\"T_4e78c7ce_56a0_11eb_957c_f2189821d74clevel0_row0\" class=\"row_heading level0 row0\" >salary</th>\n",
       "                        <td id=\"T_4e78c7ce_56a0_11eb_957c_f2189821d74crow0_col0\" class=\"data row0 col0\" >14373</td>\n",
       "                        <td id=\"T_4e78c7ce_56a0_11eb_957c_f2189821d74crow0_col1\" class=\"data row0 col1\" >89.6</td>\n",
       "            </tr>\n",
       "            <tr>\n",
       "                        <th id=\"T_4e78c7ce_56a0_11eb_957c_f2189821d74clevel0_row1\" class=\"row_heading level0 row1\" >is_remote</th>\n",
       "                        <td id=\"T_4e78c7ce_56a0_11eb_957c_f2189821d74crow1_col0\" class=\"data row1 col0\" >13898</td>\n",
       "                        <td id=\"T_4e78c7ce_56a0_11eb_957c_f2189821d74crow1_col1\" class=\"data row1 col1\" >86.7</td>\n",
       "            </tr>\n",
       "            <tr>\n",
       "                        <th id=\"T_4e78c7ce_56a0_11eb_957c_f2189821d74clevel0_row2\" class=\"row_heading level0 row2\" >job_rating</th>\n",
       "                        <td id=\"T_4e78c7ce_56a0_11eb_957c_f2189821d74crow2_col0\" class=\"data row2 col0\" >4419</td>\n",
       "                        <td id=\"T_4e78c7ce_56a0_11eb_957c_f2189821d74crow2_col1\" class=\"data row2 col1\" >27.6</td>\n",
       "            </tr>\n",
       "            <tr>\n",
       "                        <th id=\"T_4e78c7ce_56a0_11eb_957c_f2189821d74clevel0_row3\" class=\"row_heading level0 row3\" >company</th>\n",
       "                        <td id=\"T_4e78c7ce_56a0_11eb_957c_f2189821d74crow3_col0\" class=\"data row3 col0\" >1</td>\n",
       "                        <td id=\"T_4e78c7ce_56a0_11eb_957c_f2189821d74crow3_col1\" class=\"data row3 col1\" >0</td>\n",
       "            </tr>\n",
       "    </tbody></table>"
      ],
      "text/plain": [
       "<pandas.io.formats.style.Styler at 0x7f97afbd6f50>"
      ]
     },
     "metadata": {},
     "output_type": "display_data"
    },
    {
     "data": {
      "text/plain": [
       "'Your selected dataframe has  10 features. There are  4 features that have missing values.'"
      ]
     },
     "execution_count": 8,
     "metadata": {},
     "output_type": "execute_result"
    }
   ],
   "source": [
    "# Missing values\n",
    "def missing_values_func(df):\n",
    "    \"\"\"\n",
    "    @author: Cristobal Zamorano Astudillo\n",
    "    \n",
    "    Personalize Missing Data Function\n",
    "    \n",
    "    Paramaters\n",
    "    ----------\n",
    "    df : DataFrame of interest\n",
    "    \n",
    "    Returns\n",
    "    -------\n",
    "    A string with counting all the features of the input DataFrame. If some values are missing, then \n",
    "    function will return a DataFrame with the following:\n",
    "    - Index as the features with the missing values\n",
    "    - A `Missing Values Count` Feature that tells the exact number of rows that has a misssing value in that feature index.\n",
    "    - A `% of Total Values` that tells how much are the missing values of that feature with respect to the other missing values.\n",
    "    \"\"\"\n",
    "    \n",
    "    # Total missing values\n",
    "    mis_val = df.isnull().sum()\n",
    "\n",
    "    # Percentage of missing values\n",
    "    mis_val_percent = 100 * df.isnull().sum() / len(df)\n",
    "\n",
    "    # Make a table with the results\n",
    "    mis_val_table = pd.concat([mis_val, mis_val_percent], axis=1)\n",
    "\n",
    "    # Rename the columns\n",
    "    mis_val_table_ren_columns = mis_val_table.rename(\n",
    "        columns = {0 : 'Missing Values Count', 1 : '% of Total Values'})\n",
    "\n",
    "    # Sort the table by percentage of missing descending\n",
    "    mis_val_table_ren_columns = mis_val_table_ren_columns[\n",
    "        mis_val_table_ren_columns.iloc[:,1] != 0].sort_values(\n",
    "    '% of Total Values', ascending=False).round(1)\n",
    "\n",
    "\n",
    "    # Returns\n",
    "    if mis_val_table_ren_columns.empty:\n",
    "        return f'Your selected dataframe has  {df.shape[1]} features. There are  {mis_val_table_ren_columns.shape[0]} features that have missing values.'\n",
    "    else:\n",
    "        display(mis_val_table_ren_columns.style.background_gradient(cmap='Reds'))\n",
    "        return f'Your selected dataframe has  {df.shape[1]} features. There are  {mis_val_table_ren_columns.shape[0]} features that have missing values.'\n",
    "        \n",
    "missing_values_func(df)"
   ]
  },
  {
   "cell_type": "code",
   "execution_count": 9,
   "metadata": {},
   "outputs": [
    {
     "data": {
      "text/plain": [
       "Data Scientist                                                              961\n",
       "Business Analyst                                                            504\n",
       "Data Analyst                                                                485\n",
       "Senior Data Scientist                                                       344\n",
       "Senior Data Analyst                                                         238\n",
       "                                                                           ... \n",
       "Senior Front End Engineer at Conversational AI Company                        1\n",
       "Business Analyst Intern (Summer 2021)                                         1\n",
       "Business Analyst - Treasury Management                                        1\n",
       "Statistical Programmer 2/ Senior Statistical Programmer (Home Based)          1\n",
       "Director, Statistician Lead - Clinical and Real World Data Statisticians      1\n",
       "Name: job_title, Length: 5502, dtype: int64"
      ]
     },
     "execution_count": 9,
     "metadata": {},
     "output_type": "execute_result"
    }
   ],
   "source": [
    "df['job_title'].value_counts()"
   ]
  },
  {
   "cell_type": "code",
   "execution_count": 10,
   "metadata": {},
   "outputs": [
    {
     "data": {
      "text/plain": [
       "$77.55 - $82.55 an hour       37\n",
       "$60 - $70 an hour             31\n",
       "$60,000 - $80,000 a year      22\n",
       "$126,000 - $165,000 a year    22\n",
       "$250,000 a year               22\n",
       "                              ..\n",
       "$123,552 a year                1\n",
       "$34.80 - $47.18 an hour        1\n",
       "$131,239 - $197,300 a year     1\n",
       "$68,400 - $80,000 a year       1\n",
       "$46.13 - $50.86 an hour        1\n",
       "Name: salary, Length: 585, dtype: int64"
      ]
     },
     "execution_count": 10,
     "metadata": {},
     "output_type": "execute_result"
    }
   ],
   "source": [
    "df['salary'].value_counts()"
   ]
  },
  {
   "cell_type": "code",
   "execution_count": 11,
   "metadata": {},
   "outputs": [
    {
     "data": {
      "text/plain": [
       "Remote                1297\n",
       "Temporarily remote     843\n",
       "Name: is_remote, dtype: int64"
      ]
     },
     "execution_count": 11,
     "metadata": {},
     "output_type": "execute_result"
    }
   ],
   "source": [
    "df['is_remote'].value_counts()  "
   ]
  },
  {
   "cell_type": "code",
   "execution_count": 12,
   "metadata": {},
   "outputs": [
    {
     "data": {
      "text/plain": [
       "Index(['job_title', 'salary', 'company', 'location', 'is_remote', 'job_rating',\n",
       "       'job_summary', 'post_date', 'extract_date', 'job_url'],\n",
       "      dtype='object')"
      ]
     },
     "execution_count": 12,
     "metadata": {},
     "output_type": "execute_result"
    }
   ],
   "source": [
    "df.columns"
   ]
  },
  {
   "cell_type": "markdown",
   "metadata": {},
   "source": [
    "## 2. Data Cleaning"
   ]
  },
  {
   "cell_type": "markdown",
   "metadata": {},
   "source": [
    "### Duplicates \n",
    "\n",
    "\n",
    "Drop the duplicate jobs by using their link."
   ]
  },
  {
   "cell_type": "code",
   "execution_count": 13,
   "metadata": {},
   "outputs": [],
   "source": [
    "df.drop_duplicates(subset='job_url', keep = 'first', inplace = True)"
   ]
  },
  {
   "cell_type": "code",
   "execution_count": 14,
   "metadata": {},
   "outputs": [
    {
     "data": {
      "text/plain": [
       "(9966, 10)"
      ]
     },
     "metadata": {},
     "output_type": "display_data"
    },
    {
     "data": {
      "text/plain": [
       "Index(['job_title', 'salary', 'company', 'location', 'is_remote', 'job_rating',\n",
       "       'job_summary', 'post_date', 'extract_date', 'job_url'],\n",
       "      dtype='object')"
      ]
     },
     "metadata": {},
     "output_type": "display_data"
    },
    {
     "name": "stdout",
     "output_type": "stream",
     "text": [
      "--------------------------END--------------------------------\n"
     ]
    }
   ],
   "source": [
    "getting_to_know(df)"
   ]
  },
  {
   "cell_type": "markdown",
   "metadata": {},
   "source": [
    "### Location"
   ]
  },
  {
   "cell_type": "code",
   "execution_count": 15,
   "metadata": {
    "scrolled": true
   },
   "outputs": [
    {
     "data": {
      "text/plain": [
       "['New York, NY',\n",
       " 'San Francisco, CA',\n",
       " 'Atlanta, GA',\n",
       " 'Seattle, WA',\n",
       " 'Washington, DC',\n",
       " 'Boston, MA',\n",
       " 'Austin, TX',\n",
       " 'Dallas, TX',\n",
       " 'Houston, TX',\n",
       " 'San Jose, CA',\n",
       " 'San Diego, CA',\n",
       " 'Los Angeles, CA',\n",
       " 'Santa Clara, CA',\n",
       " 'Raleigh, NC',\n",
       " 'Menlo Park, CA',\n",
       " 'Mountain View, CA',\n",
       " 'Palo Alto, CA',\n",
       " 'Charlotte, NC',\n",
       " 'Denver, CO',\n",
       " 'Columbus, OH',\n",
       " 'Santa Clara Valley, CA',\n",
       " 'Baltimore, MD',\n",
       " 'Arlington, VA',\n",
       " 'Cambridge, MA',\n",
       " 'Durham, NC',\n",
       " 'Sunnyvale, CA',\n",
       " 'Plano, TX',\n",
       " 'Oakland, CA',\n",
       " 'Irving, TX',\n",
       " 'Redwood City, CA',\n",
       " 'Princeton, NJ',\n",
       " 'Fort Meade, MD',\n",
       " 'McLean, VA',\n",
       " 'United States',\n",
       " 'Bellevue, WA',\n",
       " 'Redmond, WA',\n",
       " 'Columbia, MD',\n",
       " 'Huntsville, AL',\n",
       " 'Fremont, CA',\n",
       " 'California',\n",
       " 'Madison, WI',\n",
       " 'San Mateo, CA',\n",
       " 'Alpharetta, GA',\n",
       " 'San Francisco Bay Area, CA',\n",
       " 'Boulder, CO',\n",
       " 'Colorado Springs, CO',\n",
       " 'Santa Monica, CA',\n",
       " 'Morrisville, NC',\n",
       " 'Alexandria, VA',\n",
       " 'South San Francisco, CA',\n",
       " 'Walnut Creek, CA',\n",
       " 'Jersey City, NJ',\n",
       " 'Cary, NC',\n",
       " 'Herndon, VA',\n",
       " 'Manhattan, NY',\n",
       " 'Pleasanton, CA',\n",
       " 'Rockville, MD',\n",
       " 'Annapolis Junction, MD',\n",
       " 'Brooklyn, NY',\n",
       " 'Foster City, CA',\n",
       " 'Chantilly, VA',\n",
       " 'Cupertino, CA',\n",
       " 'San Ramon, CA',\n",
       " 'Reston, VA',\n",
       " 'Richardson, TX',\n",
       " 'El Segundo, CA',\n",
       " 'Gaithersburg, MD',\n",
       " 'Research Triangle Park, NC',\n",
       " 'Laurel, MD',\n",
       " 'Long Island City, NY',\n",
       " 'Waltham, MA',\n",
       " 'Woodland Hills, CA',\n",
       " 'Somerville, MA',\n",
       " 'Somerset, NJ',\n",
       " 'Newark, NJ',\n",
       " 'Horsham, PA',\n",
       " 'Springfield, VA',\n",
       " 'Milpitas, CA',\n",
       " 'San Carlos, CA',\n",
       " 'Fairfax, VA',\n",
       " 'Burbank, CA',\n",
       " 'Dublin, OH',\n",
       " 'Emeryville, CA',\n",
       " 'Berkeley, CA',\n",
       " 'Lexington, MA',\n",
       " 'Newark, CA',\n",
       " 'Glendale, CA',\n",
       " 'Parsippany, NJ',\n",
       " 'Englewood, CO',\n",
       " 'Bethesda, MD',\n",
       " 'Annapolis, MD',\n",
       " 'Falls Church, VA',\n",
       " 'Lewisville, TX',\n",
       " 'Queens, NY',\n",
       " 'Broomfield, CO',\n",
       " 'Livermore, CA',\n",
       " 'Golden, CO',\n",
       " 'Stanford, CA',\n",
       " 'Norcross, GA',\n",
       " 'Long Beach, CA',\n",
       " 'Frisco, TX',\n",
       " 'Westerville, OH',\n",
       " 'Bothell, WA',\n",
       " 'Pasadena, CA',\n",
       " 'East Palo Alto, CA',\n",
       " 'Culver City, CA',\n",
       " 'Brea, CA',\n",
       " 'New Brunswick, NJ',\n",
       " 'Vienna, VA',\n",
       " 'Everett, WA',\n",
       " 'Tysons, VA',\n",
       " 'Patuxent River Estates, MD',\n",
       " 'Alameda, CA',\n",
       " 'Torrance, CA',\n",
       " 'Burlington, MA',\n",
       " 'Duluth, GA',\n",
       " 'Burlingame, CA',\n",
       " 'Cypress, CA',\n",
       " 'Owings Mills, MD',\n",
       " 'Los Gatos, CA',\n",
       " 'Compton, CA',\n",
       " 'Silicon Valley, CA',\n",
       " 'Richmond, CA',\n",
       " 'Hunt Valley, MD',\n",
       " 'Edison, NJ',\n",
       " 'Secaucus, NJ',\n",
       " 'Cerritos, CA',\n",
       " 'Renton, WA',\n",
       " 'Plainsboro, NJ',\n",
       " 'Suitland, MD',\n",
       " 'Fullerton, CA',\n",
       " 'Linthicum, MD',\n",
       " 'Berkeley Heights, NJ',\n",
       " 'Fort Belvoir, VA',\n",
       " 'Aurora, CO',\n",
       " 'Hoboken, NJ',\n",
       " 'Florham Park, NJ',\n",
       " 'Sterling, VA',\n",
       " 'Chapel Hill, NC',\n",
       " 'Philadelphia, PA',\n",
       " 'Bedford, MA',\n",
       " 'Chatsworth, CA',\n",
       " 'San Bruno, CA',\n",
       " 'Los Altos, CA',\n",
       " 'Northridge, CA',\n",
       " 'Timonium, MD',\n",
       " 'Dunwoody, GA',\n",
       " 'Kirkland, WA',\n",
       " 'Framingham, MA',\n",
       " 'Westminster, CO',\n",
       " 'Coppell, TX',\n",
       " 'New Jersey',\n",
       " 'Cranbury, NJ',\n",
       " 'Stafford, TX',\n",
       " 'East Hanover, NJ',\n",
       " 'Iselin, NJ',\n",
       " 'Deer Park, TX',\n",
       " 'San Rafael, CA',\n",
       " 'Cherry Hill, NJ',\n",
       " 'Pennington, NJ',\n",
       " 'Monmouth Junction, NJ',\n",
       " 'Arlington, TX',\n",
       " 'Fort Worth, TX',\n",
       " 'Livingston, NJ',\n",
       " 'Mount Laurel, NJ',\n",
       " 'Silver Spring, MD',\n",
       " 'Chevy Chase, MD',\n",
       " 'Davidson, NC',\n",
       " 'Allen, TX',\n",
       " 'Middleton, WI',\n",
       " 'Township of Hamilton, NJ',\n",
       " 'Franklin Lakes, NJ',\n",
       " 'Lakewood, CO',\n",
       " 'Addison, TX',\n",
       " 'Tysons Corner, VA',\n",
       " 'Bronx, NY',\n",
       " 'Englewood Cliffs, NJ',\n",
       " 'Newton, MA',\n",
       " 'Hanover, MD',\n",
       " 'Texas',\n",
       " 'Fort Mill, SC',\n",
       " 'Tucker, GA',\n",
       " 'Titusville, NJ',\n",
       " 'Dublin, CA',\n",
       " 'Tacoma, WA',\n",
       " 'South Plainfield, NJ',\n",
       " 'Wilmington, MA',\n",
       " 'Carrollton, TX',\n",
       " 'Gardena, CA',\n",
       " 'Alhambra, CA',\n",
       " 'Commerce, CA',\n",
       " 'Littleton, CO',\n",
       " 'Poway, CA',\n",
       " 'Campbell, CA',\n",
       " 'Irwindale, CA',\n",
       " 'La Jolla, CA',\n",
       " 'Round Rock, TX',\n",
       " 'Peachtree Corners, GA',\n",
       " 'Arlington County, VA',\n",
       " 'Roswell, GA',\n",
       " 'Louisville, CO',\n",
       " 'Dulles, VA',\n",
       " 'Beverly, MA',\n",
       " 'Trenton, NJ',\n",
       " 'Charlestown, MA',\n",
       " 'Dallas-Fort Worth, TX',\n",
       " 'Southlake, TX',\n",
       " 'Manhattan Beach, CA',\n",
       " 'Greenwood Village, CO',\n",
       " 'Pearland, TX',\n",
       " 'Linthicum Heights, MD',\n",
       " 'Union City, CA',\n",
       " 'College Park, MD',\n",
       " 'Quincy, MA',\n",
       " 'Anaheim, CA',\n",
       " 'Moorestown, NJ',\n",
       " 'Woodlawn, MD',\n",
       " 'Hayward, CA',\n",
       " 'Buena Park, CA',\n",
       " 'Needham, MA',\n",
       " 'Woburn, MA',\n",
       " 'Bowie, MD',\n",
       " 'Flower Mound, TX',\n",
       " 'Watertown, MA',\n",
       " 'Wellesley, MA',\n",
       " 'Whippany, NJ',\n",
       " 'College Point, NY',\n",
       " 'Marlton, NJ',\n",
       " 'Longmont, CO',\n",
       " 'Las Colinas, TX',\n",
       " 'Pasadena, TX',\n",
       " 'Lanham, MD',\n",
       " 'La Cañada Flintridge, CA',\n",
       " 'Yardley, PA',\n",
       " 'Marina del Rey, CA',\n",
       " 'Elkridge, MD',\n",
       " 'Towson, MD',\n",
       " 'Hackensack, NJ',\n",
       " 'New Providence, NJ',\n",
       " 'Lowell, MA',\n",
       " 'Beltsville, MD',\n",
       " 'Manhasset, NY',\n",
       " 'Weehawken, NJ',\n",
       " 'Short Hills, NJ',\n",
       " 'Germantown, MD',\n",
       " 'Weston, MA',\n",
       " 'Mooresville, NC',\n",
       " 'Applewood, CO',\n",
       " 'Venice, CA',\n",
       " 'West Menlo Park, CA',\n",
       " 'Hillsborough, NC',\n",
       " 'Catonsville, MD',\n",
       " 'Carle Place, NY',\n",
       " 'Lake Success, NY',\n",
       " 'Redondo Beach, CA',\n",
       " 'Katy, TX',\n",
       " 'Dane County, WI',\n",
       " 'Woodbridge, NJ',\n",
       " 'East Brunswick, NJ',\n",
       " 'Brighton, MA',\n",
       " 'Cottage Grove, WI',\n",
       " 'Woodcliff Lake, NJ',\n",
       " 'Duarte, CA',\n",
       " 'Industry, CA',\n",
       " 'Peterson AFB, CO',\n",
       " 'Flushing, NY',\n",
       " 'Wake County, NC',\n",
       " 'Fairfield, NJ',\n",
       " 'Roseland, NJ',\n",
       " 'Jericho, NY',\n",
       " 'Danvers, MA',\n",
       " 'Ridgefield Park, NJ',\n",
       " 'Centennial, CO',\n",
       " 'Dallas County, TX',\n",
       " 'Grand Prairie, TX',\n",
       " 'Branchburg, NJ',\n",
       " 'Andover, MA',\n",
       " 'Lorton, VA',\n",
       " 'Wayne, NJ',\n",
       " 'Natick, MA',\n",
       " 'East Windsor, NJ',\n",
       " 'Trevose, PA',\n",
       " 'Lyndhurst, NJ',\n",
       " 'Issaquah, WA',\n",
       " 'Decatur, AL',\n",
       " 'Redstone Arsenal, AL',\n",
       " 'Hyattsville, MD',\n",
       " 'Ashburn, VA',\n",
       " 'Novato, CA',\n",
       " 'Yonkers, NY',\n",
       " 'Holly Springs, NC',\n",
       " 'New Hyde Park, NY',\n",
       " 'Monrovia, CA',\n",
       " 'Arlington, MA',\n",
       " 'Port Washington, NY',\n",
       " 'Garden City, NY',\n",
       " 'Bellaire, TX',\n",
       " 'Stone Mountain, GA',\n",
       " 'Valley Stream, NY',\n",
       " 'Greenbelt, MD',\n",
       " 'White Plains, NY',\n",
       " 'Sylmar, CA',\n",
       " 'Kendall Park, NJ',\n",
       " 'Tukwila, WA',\n",
       " 'Township of South Brunswick, NJ',\n",
       " 'Gwynn Oak, MD',\n",
       " 'Belmont, CA',\n",
       " 'Reynoldsburg, OH',\n",
       " 'Rosslyn, VA',\n",
       " 'Rosemead, CA',\n",
       " 'Kenilworth, NJ',\n",
       " 'Peabody, MA',\n",
       " 'North Arlington, NJ',\n",
       " 'Summit, NJ',\n",
       " 'Montvale, NJ',\n",
       " 'Teaneck, NJ',\n",
       " 'Kent, WA',\n",
       " 'Kearny Mesa, CA',\n",
       " 'Langhorne, PA',\n",
       " 'Puget Sound, WA',\n",
       " 'Spring, TX',\n",
       " 'Smyrna, GA',\n",
       " 'Somerville, NJ',\n",
       " 'West Hollywood, CA',\n",
       " 'Morrisville, PA',\n",
       " 'Marietta, GA',\n",
       " 'Windsor Mill, MD',\n",
       " 'Kingwood, TX',\n",
       " 'Johns Creek, GA',\n",
       " 'Cockeysville, MD',\n",
       " 'Edgewater Park, NJ',\n",
       " 'North Quincy, MA',\n",
       " 'Decatur, GA',\n",
       " 'Matawan, NJ',\n",
       " 'Coronado, CA',\n",
       " 'Elkins Park, PA',\n",
       " 'Newtown, PA',\n",
       " 'Orangeburg, NY',\n",
       " 'Cardiff-by-the-Sea, CA',\n",
       " 'Doraville, GA',\n",
       " 'North Reading, MA',\n",
       " 'Diamond Bar, CA',\n",
       " 'Bremerton, WA',\n",
       " 'Powell, OH',\n",
       " 'Madison, AL',\n",
       " 'Pennsauken, NJ',\n",
       " 'Lynnwood, WA',\n",
       " 'Fort Lee, NJ',\n",
       " 'New Albany, OH',\n",
       " 'La Puente, CA',\n",
       " 'Studio City, CA',\n",
       " 'Concord, MA',\n",
       " 'North Brunswick, NJ',\n",
       " 'Glen Echo, MD',\n",
       " 'Union, NJ',\n",
       " 'Abington, PA',\n",
       " 'Montgomery County, MD',\n",
       " 'Medford, NJ',\n",
       " 'Brookline, MA',\n",
       " 'Nottingham, MD',\n",
       " 'Hicksville, NY',\n",
       " 'Santa Cruz, CA',\n",
       " 'Westbury, NY',\n",
       " 'Staten Island, NY',\n",
       " 'Little Ferry, NJ',\n",
       " 'Encinitas, CA',\n",
       " 'Lawrenceville, GA',\n",
       " 'Troy Hills, NJ',\n",
       " 'Foxborough, MA',\n",
       " 'Uniondale, NY',\n",
       " 'Whitestone, NY',\n",
       " 'Hurst, TX',\n",
       " 'Wilmer, TX',\n",
       " 'Middleton, MA',\n",
       " 'Manhattanville, NY',\n",
       " 'Century City, CA',\n",
       " 'Kearny, NJ',\n",
       " 'Totowa, NJ',\n",
       " 'Sherman Oaks, CA',\n",
       " 'Crystal City, VA',\n",
       " 'Manchester, MA',\n",
       " 'Mill Creek, WA',\n",
       " 'Lone Tree, CO',\n",
       " 'Lynnfield, MA',\n",
       " 'Maynard, MA',\n",
       " 'East Meadow, NY',\n",
       " 'Millbrae, CA',\n",
       " 'Playa Vista, CA',\n",
       " 'Highlands Ranch, CO',\n",
       " 'La Mirada, CA',\n",
       " 'Township of Franklin, NJ',\n",
       " 'Spring Valley, CA',\n",
       " 'Takoma Park, MD',\n",
       " 'Woodmere, NY',\n",
       " 'Pikesville, MD',\n",
       " 'Elmhurst, NY',\n",
       " 'Dedham, MA',\n",
       " 'Marlborough, MA',\n",
       " 'Foggy Bottom, DC',\n",
       " 'Concord, NC',\n",
       " 'Chelsea, MA',\n",
       " 'Half Moon Bay, CA',\n",
       " 'Sandy Springs, GA',\n",
       " 'Walnut, CA',\n",
       " 'Farmers Branch, TX',\n",
       " 'Mooresville, AL',\n",
       " 'SoHo, NY',\n",
       " 'Browns Mills, NJ',\n",
       " 'Doylestown, PA',\n",
       " 'Gwinnett County, GA',\n",
       " 'West Falls Church, VA',\n",
       " 'Princeton Junction, NJ',\n",
       " 'Rockland, MA',\n",
       " 'Downey, CA',\n",
       " 'Severna Park, MD',\n",
       " 'National City, CA',\n",
       " 'Huntersville, NC',\n",
       " 'Auburn, WA',\n",
       " 'Whittier, CA',\n",
       " 'Indian Land, SC',\n",
       " 'Teterboro, NJ',\n",
       " 'Fair Lawn, NJ',\n",
       " 'San Leandro, CA',\n",
       " 'Rex, GA',\n",
       " 'Skillman, NJ',\n",
       " 'Orange, CA',\n",
       " 'Maurer, NJ',\n",
       " 'Raleigh-Durham, NC',\n",
       " 'Grapevine, TX',\n",
       " 'Edgewood, MD',\n",
       " 'Ellicott City, MD',\n",
       " 'Kennesaw, GA',\n",
       " 'Flemington, NJ',\n",
       " 'Schriever AFB, CO',\n",
       " 'Rockwall, TX',\n",
       " 'Capitol Hill, WA',\n",
       " 'Millersville, MD',\n",
       " 'Paramus, NJ',\n",
       " 'Andrews AFB, MD',\n",
       " 'Fort Washington, MD',\n",
       " 'Hawthorne, CA',\n",
       " 'Elizabeth, NJ',\n",
       " 'DeKalb County, GA',\n",
       " 'Clinton, MD',\n",
       " 'Grove City, OH',\n",
       " 'Dorchester, MA',\n",
       " 'Chula Vista, CA',\n",
       " 'San Dimas, CA',\n",
       " 'Kentfield, CA',\n",
       " 'Hopewell, NJ',\n",
       " 'Rutherford, NJ',\n",
       " 'Fort Washington, PA',\n",
       " 'Haworth, NJ',\n",
       " 'Westford, MA',\n",
       " 'Brisbane, CA',\n",
       " 'Sammamish, WA',\n",
       " 'Leander, TX',\n",
       " 'Rego Park, NY',\n",
       " 'Seal Beach, CA',\n",
       " 'Santa Fe Springs, CA',\n",
       " 'Alabama',\n",
       " 'Fulton, MD',\n",
       " 'Indian Head, MD',\n",
       " 'Pflugerville, TX',\n",
       " 'Chalfont, PA',\n",
       " 'Milton, MA',\n",
       " 'Fort George G Meade, MD',\n",
       " 'Malden, MA',\n",
       " 'Azusa, CA',\n",
       " 'La Porte, TX',\n",
       " 'San Gabriel Valley, CA',\n",
       " 'Gahanna, OH',\n",
       " 'Webster, TX',\n",
       " 'Santa Cruz County, CA',\n",
       " 'Keyport, WA',\n",
       " 'West Windsor, NJ',\n",
       " 'Washington Navy Yard, DC',\n",
       " 'Vallejo, CA',\n",
       " 'Lumberton, NJ',\n",
       " 'South Easton, MA',\n",
       " 'Great Neck, NY',\n",
       " 'Sugar Land, TX',\n",
       " 'Thornton, CO',\n",
       " 'Tribeca, NY',\n",
       " 'Weymouth, MA',\n",
       " 'Apex, NC',\n",
       " 'Pentagon, DC',\n",
       " 'Cheverly, MD',\n",
       " 'Norwood, MA',\n",
       " 'Bayonne, NJ',\n",
       " 'Adelphi, MD',\n",
       " 'Metuchen, NJ',\n",
       " 'Los Angeles County, CA',\n",
       " 'Aberdeen Proving Ground, MD',\n",
       " 'Belmont, NC',\n",
       " 'Clark, NJ',\n",
       " 'Garner, NC',\n",
       " 'Stoneham, MA',\n",
       " 'Norwell, MA',\n",
       " 'Jamesburg, NJ',\n",
       " 'Olney, MD',\n",
       " 'Jefferson County, CO',\n",
       " 'Elmwood Park, NJ',\n",
       " 'Sun Prairie, WI',\n",
       " 'Centreville, VA',\n",
       " 'Ewing, NJ',\n",
       " 'Jessup, MD',\n",
       " 'Lawrenceville, NJ',\n",
       " 'Dominguez, CA',\n",
       " 'Ambler, PA',\n",
       " 'Dobbs Ferry, NY',\n",
       " 'Jackson Heights, NY',\n",
       " 'Belcamp, MD',\n",
       " 'Port Reading, NJ',\n",
       " 'Moffett Field, CA',\n",
       " 'Lafayette, CO',\n",
       " 'DeForest, WI',\n",
       " 'Lewis Center, OH',\n",
       " 'Hanover, NJ',\n",
       " 'Carlstadt, NJ',\n",
       " 'Harrison, NY',\n",
       " 'Tarzana, CA',\n",
       " 'Everett, MA',\n",
       " 'Westwood, MA',\n",
       " 'Concord, CA']"
      ]
     },
     "execution_count": 15,
     "metadata": {},
     "output_type": "execute_result"
    }
   ],
   "source": [
    "df['location'].value_counts().index.to_list()"
   ]
  },
  {
   "cell_type": "code",
   "execution_count": 16,
   "metadata": {},
   "outputs": [
    {
     "data": {
      "text/html": [
       "<div>\n",
       "<style scoped>\n",
       "    .dataframe tbody tr th:only-of-type {\n",
       "        vertical-align: middle;\n",
       "    }\n",
       "\n",
       "    .dataframe tbody tr th {\n",
       "        vertical-align: top;\n",
       "    }\n",
       "\n",
       "    .dataframe thead th {\n",
       "        text-align: right;\n",
       "    }\n",
       "</style>\n",
       "<table border=\"1\" class=\"dataframe\">\n",
       "  <thead>\n",
       "    <tr style=\"text-align: right;\">\n",
       "      <th></th>\n",
       "      <th>job_title</th>\n",
       "      <th>salary</th>\n",
       "      <th>company</th>\n",
       "      <th>location</th>\n",
       "      <th>is_remote</th>\n",
       "      <th>job_rating</th>\n",
       "      <th>job_summary</th>\n",
       "      <th>post_date</th>\n",
       "      <th>extract_date</th>\n",
       "      <th>job_url</th>\n",
       "    </tr>\n",
       "  </thead>\n",
       "  <tbody>\n",
       "    <tr>\n",
       "      <td>15</td>\n",
       "      <td>Deep Learning Engineer</td>\n",
       "      <td>NaN</td>\n",
       "      <td>Numerator</td>\n",
       "      <td>Alabama</td>\n",
       "      <td>NaN</td>\n",
       "      <td>3.6</td>\n",
       "      <td>Demonstrated ability to drive selection of mac...</td>\n",
       "      <td>19 days ago</td>\n",
       "      <td>2021-01-10</td>\n",
       "      <td>https://www.indeed.com/pagead/clk?mo=r&amp;ad=-6NY...</td>\n",
       "    </tr>\n",
       "  </tbody>\n",
       "</table>\n",
       "</div>"
      ],
      "text/plain": [
       "                 job_title salary    company location is_remote  job_rating  \\\n",
       "15  Deep Learning Engineer    NaN  Numerator  Alabama       NaN         3.6   \n",
       "\n",
       "                                          job_summary    post_date  \\\n",
       "15  Demonstrated ability to drive selection of mac...  19 days ago   \n",
       "\n",
       "   extract_date                                            job_url  \n",
       "15   2021-01-10  https://www.indeed.com/pagead/clk?mo=r&ad=-6NY...  "
      ]
     },
     "execution_count": 16,
     "metadata": {},
     "output_type": "execute_result"
    }
   ],
   "source": [
    "df[df['location'] == 'Alabama']"
   ]
  },
  {
   "cell_type": "code",
   "execution_count": 17,
   "metadata": {},
   "outputs": [
    {
     "data": {
      "text/html": [
       "<div>\n",
       "<style scoped>\n",
       "    .dataframe tbody tr th:only-of-type {\n",
       "        vertical-align: middle;\n",
       "    }\n",
       "\n",
       "    .dataframe tbody tr th {\n",
       "        vertical-align: top;\n",
       "    }\n",
       "\n",
       "    .dataframe thead th {\n",
       "        text-align: right;\n",
       "    }\n",
       "</style>\n",
       "<table border=\"1\" class=\"dataframe\">\n",
       "  <thead>\n",
       "    <tr style=\"text-align: right;\">\n",
       "      <th></th>\n",
       "      <th>job_title</th>\n",
       "      <th>salary</th>\n",
       "      <th>company</th>\n",
       "      <th>location</th>\n",
       "      <th>is_remote</th>\n",
       "      <th>job_rating</th>\n",
       "      <th>job_summary</th>\n",
       "      <th>post_date</th>\n",
       "      <th>extract_date</th>\n",
       "      <th>job_url</th>\n",
       "    </tr>\n",
       "  </thead>\n",
       "  <tbody>\n",
       "    <tr>\n",
       "      <td>37</td>\n",
       "      <td>Looking for Experienced Business Analyst/Softw...</td>\n",
       "      <td>$35 - $38 an hour</td>\n",
       "      <td>Agama Solutions</td>\n",
       "      <td>Texas</td>\n",
       "      <td>NaN</td>\n",
       "      <td>3.8</td>\n",
       "      <td>Analyze science, engineering, business, and ot...</td>\n",
       "      <td>30+ days ago</td>\n",
       "      <td>2021-01-11</td>\n",
       "      <td>https://www.indeed.com/pagead/clk?mo=r&amp;ad=-6NY...</td>\n",
       "    </tr>\n",
       "    <tr>\n",
       "      <td>113</td>\n",
       "      <td>Looking for Experienced Business Analyst/Softw...</td>\n",
       "      <td>$35 - $38 an hour</td>\n",
       "      <td>Agama Solutions</td>\n",
       "      <td>Texas</td>\n",
       "      <td>NaN</td>\n",
       "      <td>3.8</td>\n",
       "      <td>Analyze science, engineering, business, and ot...</td>\n",
       "      <td>30+ days ago</td>\n",
       "      <td>2021-01-11</td>\n",
       "      <td>https://www.indeed.com/pagead/clk?mo=r&amp;ad=-6NY...</td>\n",
       "    </tr>\n",
       "    <tr>\n",
       "      <td>159</td>\n",
       "      <td>Looking for Experienced Business Analyst/Softw...</td>\n",
       "      <td>$35 - $38 an hour</td>\n",
       "      <td>Agama Solutions</td>\n",
       "      <td>Texas</td>\n",
       "      <td>NaN</td>\n",
       "      <td>3.8</td>\n",
       "      <td>Analyze science, engineering, business, and ot...</td>\n",
       "      <td>30+ days ago</td>\n",
       "      <td>2021-01-11</td>\n",
       "      <td>https://www.indeed.com/pagead/clk?mo=r&amp;ad=-6NY...</td>\n",
       "    </tr>\n",
       "    <tr>\n",
       "      <td>326</td>\n",
       "      <td>Looking for Experienced Business Analyst/Softw...</td>\n",
       "      <td>$35 - $38 an hour</td>\n",
       "      <td>Agama Solutions</td>\n",
       "      <td>Texas</td>\n",
       "      <td>NaN</td>\n",
       "      <td>3.8</td>\n",
       "      <td>Analyze science, engineering, business, and ot...</td>\n",
       "      <td>30+ days ago</td>\n",
       "      <td>2021-01-11</td>\n",
       "      <td>https://www.indeed.com/pagead/clk?mo=r&amp;ad=-6NY...</td>\n",
       "    </tr>\n",
       "    <tr>\n",
       "      <td>386</td>\n",
       "      <td>Looking for Experienced Business Analyst/Softw...</td>\n",
       "      <td>$35 - $38 an hour</td>\n",
       "      <td>Agama Solutions</td>\n",
       "      <td>Texas</td>\n",
       "      <td>NaN</td>\n",
       "      <td>3.8</td>\n",
       "      <td>Analyze science, engineering, business, and ot...</td>\n",
       "      <td>30+ days ago</td>\n",
       "      <td>2021-01-11</td>\n",
       "      <td>https://www.indeed.com/pagead/clk?mo=r&amp;ad=-6NY...</td>\n",
       "    </tr>\n",
       "  </tbody>\n",
       "</table>\n",
       "</div>"
      ],
      "text/plain": [
       "                                             job_title             salary  \\\n",
       "37   Looking for Experienced Business Analyst/Softw...  $35 - $38 an hour   \n",
       "113  Looking for Experienced Business Analyst/Softw...  $35 - $38 an hour   \n",
       "159  Looking for Experienced Business Analyst/Softw...  $35 - $38 an hour   \n",
       "326  Looking for Experienced Business Analyst/Softw...  $35 - $38 an hour   \n",
       "386  Looking for Experienced Business Analyst/Softw...  $35 - $38 an hour   \n",
       "\n",
       "             company location is_remote  job_rating  \\\n",
       "37   Agama Solutions    Texas       NaN         3.8   \n",
       "113  Agama Solutions    Texas       NaN         3.8   \n",
       "159  Agama Solutions    Texas       NaN         3.8   \n",
       "326  Agama Solutions    Texas       NaN         3.8   \n",
       "386  Agama Solutions    Texas       NaN         3.8   \n",
       "\n",
       "                                           job_summary     post_date  \\\n",
       "37   Analyze science, engineering, business, and ot...  30+ days ago   \n",
       "113  Analyze science, engineering, business, and ot...  30+ days ago   \n",
       "159  Analyze science, engineering, business, and ot...  30+ days ago   \n",
       "326  Analyze science, engineering, business, and ot...  30+ days ago   \n",
       "386  Analyze science, engineering, business, and ot...  30+ days ago   \n",
       "\n",
       "    extract_date                                            job_url  \n",
       "37    2021-01-11  https://www.indeed.com/pagead/clk?mo=r&ad=-6NY...  \n",
       "113   2021-01-11  https://www.indeed.com/pagead/clk?mo=r&ad=-6NY...  \n",
       "159   2021-01-11  https://www.indeed.com/pagead/clk?mo=r&ad=-6NY...  \n",
       "326   2021-01-11  https://www.indeed.com/pagead/clk?mo=r&ad=-6NY...  \n",
       "386   2021-01-11  https://www.indeed.com/pagead/clk?mo=r&ad=-6NY...  "
      ]
     },
     "execution_count": 17,
     "metadata": {},
     "output_type": "execute_result"
    }
   ],
   "source": [
    "df[df['location'] == 'Texas']"
   ]
  },
  {
   "cell_type": "code",
   "execution_count": 18,
   "metadata": {},
   "outputs": [
    {
     "data": {
      "text/html": [
       "<div>\n",
       "<style scoped>\n",
       "    .dataframe tbody tr th:only-of-type {\n",
       "        vertical-align: middle;\n",
       "    }\n",
       "\n",
       "    .dataframe tbody tr th {\n",
       "        vertical-align: top;\n",
       "    }\n",
       "\n",
       "    .dataframe thead th {\n",
       "        text-align: right;\n",
       "    }\n",
       "</style>\n",
       "<table border=\"1\" class=\"dataframe\">\n",
       "  <thead>\n",
       "    <tr style=\"text-align: right;\">\n",
       "      <th></th>\n",
       "      <th>job_title</th>\n",
       "      <th>salary</th>\n",
       "      <th>company</th>\n",
       "      <th>location</th>\n",
       "      <th>is_remote</th>\n",
       "      <th>job_rating</th>\n",
       "      <th>job_summary</th>\n",
       "      <th>post_date</th>\n",
       "      <th>extract_date</th>\n",
       "      <th>job_url</th>\n",
       "    </tr>\n",
       "  </thead>\n",
       "  <tbody>\n",
       "    <tr>\n",
       "      <td>16</td>\n",
       "      <td>Sr. Data Analyst</td>\n",
       "      <td>NaN</td>\n",
       "      <td>Pitney Bowes</td>\n",
       "      <td>New Jersey</td>\n",
       "      <td>NaN</td>\n",
       "      <td>3.6</td>\n",
       "      <td>Oversees development, execution and continuati...</td>\n",
       "      <td>6 days ago</td>\n",
       "      <td>2021-01-10</td>\n",
       "      <td>https://www.indeed.com/pagead/clk?mo=r&amp;ad=-6NY...</td>\n",
       "    </tr>\n",
       "    <tr>\n",
       "      <td>42</td>\n",
       "      <td>Looking for Experienced Business Analyst/Softw...</td>\n",
       "      <td>$35 - $38 an hour</td>\n",
       "      <td>Agama Solutions</td>\n",
       "      <td>New Jersey</td>\n",
       "      <td>NaN</td>\n",
       "      <td>3.8</td>\n",
       "      <td>Analyze science, engineering, business, and ot...</td>\n",
       "      <td>30+ days ago</td>\n",
       "      <td>2021-01-11</td>\n",
       "      <td>https://www.indeed.com/pagead/clk?mo=r&amp;ad=-6NY...</td>\n",
       "    </tr>\n",
       "    <tr>\n",
       "      <td>55</td>\n",
       "      <td>Looking for Experienced Business Analyst/Softw...</td>\n",
       "      <td>$35 - $38 an hour</td>\n",
       "      <td>Agama Solutions</td>\n",
       "      <td>New Jersey</td>\n",
       "      <td>NaN</td>\n",
       "      <td>3.8</td>\n",
       "      <td>Analyze science, engineering, business, and ot...</td>\n",
       "      <td>30+ days ago</td>\n",
       "      <td>2021-01-11</td>\n",
       "      <td>https://www.indeed.com/pagead/clk?mo=r&amp;ad=-6NY...</td>\n",
       "    </tr>\n",
       "    <tr>\n",
       "      <td>87</td>\n",
       "      <td>Looking for Experienced Business Analyst/Softw...</td>\n",
       "      <td>$35 - $38 an hour</td>\n",
       "      <td>Agama Solutions</td>\n",
       "      <td>New Jersey</td>\n",
       "      <td>NaN</td>\n",
       "      <td>3.8</td>\n",
       "      <td>Analyze science, engineering, business, and ot...</td>\n",
       "      <td>30+ days ago</td>\n",
       "      <td>2021-01-11</td>\n",
       "      <td>https://www.indeed.com/pagead/clk?mo=r&amp;ad=-6NY...</td>\n",
       "    </tr>\n",
       "    <tr>\n",
       "      <td>102</td>\n",
       "      <td>Looking for Experienced Business Analyst/Softw...</td>\n",
       "      <td>$35 - $38 an hour</td>\n",
       "      <td>Agama Solutions</td>\n",
       "      <td>New Jersey</td>\n",
       "      <td>NaN</td>\n",
       "      <td>3.8</td>\n",
       "      <td>Analyze science, engineering, business, and ot...</td>\n",
       "      <td>30+ days ago</td>\n",
       "      <td>2021-01-11</td>\n",
       "      <td>https://www.indeed.com/pagead/clk?mo=r&amp;ad=-6NY...</td>\n",
       "    </tr>\n",
       "    <tr>\n",
       "      <td>133</td>\n",
       "      <td>Looking for Experienced Business Analyst/Softw...</td>\n",
       "      <td>$35 - $38 an hour</td>\n",
       "      <td>Agama Solutions</td>\n",
       "      <td>New Jersey</td>\n",
       "      <td>NaN</td>\n",
       "      <td>3.8</td>\n",
       "      <td>Analyze science, engineering, business, and ot...</td>\n",
       "      <td>30+ days ago</td>\n",
       "      <td>2021-01-11</td>\n",
       "      <td>https://www.indeed.com/pagead/clk?mo=r&amp;ad=-6NY...</td>\n",
       "    </tr>\n",
       "  </tbody>\n",
       "</table>\n",
       "</div>"
      ],
      "text/plain": [
       "                                             job_title             salary  \\\n",
       "16                                    Sr. Data Analyst                NaN   \n",
       "42   Looking for Experienced Business Analyst/Softw...  $35 - $38 an hour   \n",
       "55   Looking for Experienced Business Analyst/Softw...  $35 - $38 an hour   \n",
       "87   Looking for Experienced Business Analyst/Softw...  $35 - $38 an hour   \n",
       "102  Looking for Experienced Business Analyst/Softw...  $35 - $38 an hour   \n",
       "133  Looking for Experienced Business Analyst/Softw...  $35 - $38 an hour   \n",
       "\n",
       "             company    location is_remote  job_rating  \\\n",
       "16      Pitney Bowes  New Jersey       NaN         3.6   \n",
       "42   Agama Solutions  New Jersey       NaN         3.8   \n",
       "55   Agama Solutions  New Jersey       NaN         3.8   \n",
       "87   Agama Solutions  New Jersey       NaN         3.8   \n",
       "102  Agama Solutions  New Jersey       NaN         3.8   \n",
       "133  Agama Solutions  New Jersey       NaN         3.8   \n",
       "\n",
       "                                           job_summary     post_date  \\\n",
       "16   Oversees development, execution and continuati...    6 days ago   \n",
       "42   Analyze science, engineering, business, and ot...  30+ days ago   \n",
       "55   Analyze science, engineering, business, and ot...  30+ days ago   \n",
       "87   Analyze science, engineering, business, and ot...  30+ days ago   \n",
       "102  Analyze science, engineering, business, and ot...  30+ days ago   \n",
       "133  Analyze science, engineering, business, and ot...  30+ days ago   \n",
       "\n",
       "    extract_date                                            job_url  \n",
       "16    2021-01-10  https://www.indeed.com/pagead/clk?mo=r&ad=-6NY...  \n",
       "42    2021-01-11  https://www.indeed.com/pagead/clk?mo=r&ad=-6NY...  \n",
       "55    2021-01-11  https://www.indeed.com/pagead/clk?mo=r&ad=-6NY...  \n",
       "87    2021-01-11  https://www.indeed.com/pagead/clk?mo=r&ad=-6NY...  \n",
       "102   2021-01-11  https://www.indeed.com/pagead/clk?mo=r&ad=-6NY...  \n",
       "133   2021-01-11  https://www.indeed.com/pagead/clk?mo=r&ad=-6NY...  "
      ]
     },
     "execution_count": 18,
     "metadata": {},
     "output_type": "execute_result"
    }
   ],
   "source": [
    "df[df['location'] == 'New Jersey']"
   ]
  },
  {
   "cell_type": "markdown",
   "metadata": {},
   "source": [
    "Only one job is located in 'Alabama'"
   ]
  },
  {
   "cell_type": "code",
   "execution_count": null,
   "metadata": {},
   "outputs": [],
   "source": []
  },
  {
   "cell_type": "markdown",
   "metadata": {},
   "source": [
    "### Salary"
   ]
  },
  {
   "cell_type": "code",
   "execution_count": 19,
   "metadata": {},
   "outputs": [
    {
     "data": {
      "text/plain": [
       "$77.55 - $82.55 an hour       37\n",
       "$60 - $70 an hour             25\n",
       "$250,000 a year               22\n",
       "$126,000 - $165,000 a year    22\n",
       "$85,225 - $135,355 a year     18\n",
       "                              ..\n",
       "$80,000 - $135,000 a year      1\n",
       "$86,528 a year                 1\n",
       "$110,000 - $150,000 a year     1\n",
       "$55,732 - $128,154 a year      1\n",
       "$54,004 - $108,219 a year      1\n",
       "Name: salary, Length: 585, dtype: int64"
      ]
     },
     "execution_count": 19,
     "metadata": {},
     "output_type": "execute_result"
    }
   ],
   "source": [
    "df['salary'].value_counts()"
   ]
  },
  {
   "cell_type": "code",
   "execution_count": 20,
   "metadata": {},
   "outputs": [
    {
     "data": {
      "text/plain": [
       "array([nan, 'Up to $120,000 a year', '$60 - $80 an hour',\n",
       "       '$35 - $50 an hour', '$92,000 - $108,000 a year',\n",
       "       '$60 - $100 an hour', '$68,000 - $80,000 a year',\n",
       "       '$100,000 - $135,000 a year', '$53,828 - $91,507 a year',\n",
       "       '$65 - $80 an hour', '$90,000 - $135,000 a year',\n",
       "       '$85,000 - $95,000 a year', '$1,350 a week',\n",
       "       '$100,000 - $155,000 a year', '$126,000 - $165,000 a year',\n",
       "       '$70,000 - $92,000 a year', '$53,917 - $120,874 a year',\n",
       "       'From $96,542 a year', '$35 an hour', '$89,000 - $118,000 a year',\n",
       "       '$82,988 - $90,015 a year', '$157,000 - $191,000 a year',\n",
       "       '$100,000 - $120,000 a year', '$102,663 - $157,709 a year',\n",
       "       '$115,000 a year', '$72,351 - $90,157 a year',\n",
       "       '$103,690 - $134,798 a year', '$87,198 - $134,798 a year',\n",
       "       '$121,316 - $157,709 a year', '$96,102 - $200,458 a year',\n",
       "       '$52,495 - $72,000 a year', '$55,000 - $60,000 a year',\n",
       "       '$40 per class', '$90,000 - $120,000 a year', '$44 - $48 an hour',\n",
       "       '$120,000 - $145,000 a year', '$100,000 - $150,000 a year',\n",
       "       '$71,987 - $133,382 a year', '$45 an hour', '$225,000 a year',\n",
       "       '$180,000 a year', '$70,000 - $85,000 a year',\n",
       "       '$100,000 - $140,000 a year', '$100,000 - $200,000 a year',\n",
       "       '$80,000 - $120,000 a year', '$170,000 a year', '$106,700 a year',\n",
       "       '$125,000 - $170,000 a year', '$90,000 - $112,000 a year',\n",
       "       '$80,000 - $89,000 a year', '$62,400 a year',\n",
       "       '$90,000 - $110,000 a year', '$75,000 - $95,000 a year',\n",
       "       '$78,670 - $98,337 a year', '$85,000 - $120,000 a year',\n",
       "       '$80,000 - $100,000 a year', '$60,000 - $75,000 a year',\n",
       "       '$100,000 a year', '$71,360 a year', '$100,000 - $137,000 a year',\n",
       "       '$39,600 - $63,500 a year', '$73,900 - $133,100 a year',\n",
       "       '$102,000 - $140,000 a year', 'From $114,213 a year',\n",
       "       'From $93,496 a year', 'From $108,763 a year', '$70 - $85 an hour',\n",
       "       '$100,000 - $130,000 a year', 'From $140,000 a year',\n",
       "       '$110,000 - $135,000 a year', '$55,000 - $95,000 a year',\n",
       "       '$75,200 a year', '$40 - $45 an hour', '$75,000 - $100,000 a year',\n",
       "       '$55 - $75 an hour', '$93,389 - $147,614 a year',\n",
       "       '$125,500 a year', '$75,100 a year', 'From $80,000 a year',\n",
       "       '$85,000 - $105,000 a year', '$61,727 a year',\n",
       "       '$60,000 - $90,000 a year', '$78,692 - $104,923 a year',\n",
       "       'From $93,870 a year', '$110,000 - $120,000 a year',\n",
       "       '$140,000 - $160,000 a year', '$65 - $70 an hour',\n",
       "       '$150,000 - $230,000 a year', '$65 - $68 an hour',\n",
       "       '$75,000 - $85,000 a year', 'From $60 an hour',\n",
       "       '$46 - $60 an hour', '$250,000 - $375,000 a year',\n",
       "       '$90,000 - $130,000 a year', '$60 - $70 an hour',\n",
       "       '$103,000 - $123,000 a year', '$97,289 - $244,229 a year',\n",
       "       '$77.55 - $82.55 an hour', '$20 an hour', '$61 - $74 an hour',\n",
       "       '$117,000 - $155,000 a year', '$200,000 - $300,000 a year',\n",
       "       '$87,160 - $118,000 a year', '$206,000 - $251,000 a year',\n",
       "       '$132,476 - $163,000 a year', '$190,000 a year',\n",
       "       '$77,710 - $116,570 a year', '$130,000 - $170,000 a year',\n",
       "       'From $200,000 a year', 'From $55,000 a year',\n",
       "       '$76,075 - $175,319 a year', 'From $75,123 a year',\n",
       "       '$42 - $52 an hour', '$70 - $75 an hour',\n",
       "       '$3,470 - $6,681 a month', '$10 an hour',\n",
       "       '$80,000 - $90,000 a year', '$5,325 - $10,533 a month',\n",
       "       '$80,000 a year', '$76,721 - $99,741 a year',\n",
       "       '$88,656 - $222,212 a year', '$89,115 - $222,451 a year',\n",
       "       '$80,000 - $135,000 a year', '$17 - $20 an hour',\n",
       "       '$121,162 - $200,000 a year', '$130,000 - $160,000 a year',\n",
       "       '$125,000 - $180,000 a year', '$61 - $80 an hour',\n",
       "       '$124,155 - $197,518 a year', '$84,468 - $97,138 a year',\n",
       "       '$120,000 a year', '$140,000 - $170,000 a year',\n",
       "       '$60 - $90 an hour', '$46.41 - $53.37 an hour',\n",
       "       '$130,000 - $140,000 a year', '$130,000 - $190,000 a year',\n",
       "       '$94,283 - $108,426 a year', '$200,000 a year',\n",
       "       '$110,000 - $150,000 a year', '$100,000 - $125,000 a year',\n",
       "       '$130,000 - $175,000 a year', '$215,000 a year',\n",
       "       'From $100,000 a year', '$72 an hour', '$70 an hour',\n",
       "       '$160,000 a year', '$60,000 - $65,000 a year', '$270,000 a year',\n",
       "       '$220,000 a year', 'Up to $2,000 a month', 'From $123,000 a year',\n",
       "       '$240,000 a year', '$150,000 a year', '$85,225 - $135,355 a year',\n",
       "       '$75,688 - $149,805 a year', '$185,000 a year', '$25.57 an hour',\n",
       "       '$85,000 - $115,000 a year', '$100,000 - $160,000 a year',\n",
       "       '$140,000 - $150,000 a year', '$70,000 - $90,000 a year',\n",
       "       '$38 - $48 an hour', '$45 - $50 an hour',\n",
       "       '$107,807 - $140,146 a year', '$95,000 - $125,000 a year',\n",
       "       '$190,000 - $210,000 a year', '$110,000 - $170,000 a year',\n",
       "       '$76,228 - $162,994 a year', '$60 - $65 an hour',\n",
       "       '$120,000 - $160,000 a year', '$70,000 a year',\n",
       "       '$122,530 - $159,286 a year', '$100,000 - $170,000 a year',\n",
       "       '$105,000 - $150,000 a year', '$90,000 - $150,000 a year',\n",
       "       '$96,516 - $135,395 a year', '$55,000 - $65,000 a year',\n",
       "       '$76,010 - $120,000 a year', '$125,000 - $150,000 a year',\n",
       "       '$102,663 - $142,958 a year', '$175,000 - $190,000 a year',\n",
       "       '$75,000 - $140,000 a year', '$75,000 - $135,000 a year',\n",
       "       '$70,000 - $180,000 a year', '$147,874 - $251,385 a year',\n",
       "       '$125,000 a year', '$49,157 - $94,581 a year',\n",
       "       '$79,521 - $90,000 a year', 'From $75,000 a year',\n",
       "       '$100,319 - $152,137 a year', '$92,211 - $169,987 a year',\n",
       "       '$102,663 - $133,465 a year', '$82,479 - $240,000 a year',\n",
       "       '$63,503 - $157,709 a year', '$142,701 - $170,800 a year',\n",
       "       '$73,973 - $112,240 a year', '$174,225 - $194,516 a year',\n",
       "       '$150,000 - $190,000 a year', '$145,000 - $190,000 a year',\n",
       "       '$131,239 - $197,300 a year', '$150,000 - $200,000 a year',\n",
       "       '$51,102 - $81,263 a year', '$117,265 - $165,084 a year',\n",
       "       '$155,000 - $160,000 a year', '$30 - $70 an hour',\n",
       "       '$57,000 - $70,000 a year', '$80 - $100 an hour',\n",
       "       '$125,000 - $300,000 a year', '$45 - $55 an hour',\n",
       "       '$93,587 - $121,668 a year', '$250,000 a year',\n",
       "       '$50 - $72 an hour', '$65,000 - $70,000 a year',\n",
       "       '$150,000 - $180,000 a year', '$55,000 - $70,000 a year',\n",
       "       '$32 - $37 an hour', '$68,400 - $80,000 a year',\n",
       "       '$30 - $33 an hour', '$23 - $40 an hour', 'Up to $70 an hour',\n",
       "       '$61,143 - $94,776 a year', '$30 - $37 an hour', '$40,000 a year',\n",
       "       '$35 - $42 an hour', '$58,949 a year', '$47 - $50 an hour',\n",
       "       '$15 an hour', '$40 - $43 an hour', '$80 - $90 an hour',\n",
       "       '$40 - $50 an hour', '$60,000 - $80,000 a year', '$72,000 a year',\n",
       "       '$85,000 - $90,000 a year', '$100,000 - $110,000 a year',\n",
       "       '$102,000 - $115,000 a year', '$60 an hour',\n",
       "       '$65,000 - $90,000 a year', '$25 - $28 an hour',\n",
       "       '$48,000 - $55,000 a year', '$4,599 - $6,700 a month',\n",
       "       '$3,763 - $6,149 a month', '$5,000 a month',\n",
       "       'Up to $60,000 a year', '$42 - $72 an hour',\n",
       "       '$48,728 - $103,038 a year', '$130,000 - $141,136 a year',\n",
       "       '$74,000 - $96,000 a year', '$26.42 - $34.35 an hour',\n",
       "       '$25 an hour', '$4,917 - $6,000 a month',\n",
       "       '$4,917 - $6,489 a month', '$50,000 - $75,000 a year',\n",
       "       '$4,599 - $6,066 a month', '$34 - $75 an hour',\n",
       "       '$20 - $22 an hour', '$50 - $65 an hour', '$22 an hour',\n",
       "       '$3,763 - $4,167 a month', '$4,301 - $7,040 a month',\n",
       "       '$50 - $55 an hour', '$5,259 - $7,500 a month',\n",
       "       '$4,917 - $7,084 a month', '$51,000 - $59,000 a year',\n",
       "       '$65,902 a year', '$55 - $65 an hour', '$52,000 - $62,000 a year',\n",
       "       '$31.47 - $40.91 an hour', '$45 - $65 an hour',\n",
       "       '$5,500 - $7,000 a month', '$4,200 - $4,600 a month',\n",
       "       '$31 - $40 an hour', '$56.68 an hour', '$22.96 - $29.72 an hour',\n",
       "       'From $40,000 a year', '$21.72 - $29.90 an hour', '$85,000 a year',\n",
       "       '$65,908 a year', 'From $35 an hour', '$70,000 - $80,000 a year',\n",
       "       '$45,195 - $62,225 a year', '$30 - $42 an hour',\n",
       "       '$16 - $18 an hour', '$66,980 - $96,568 a year',\n",
       "       '$35.00 - $38.50 an hour', '$219 a day', '$30 - $40 an hour',\n",
       "       '$56,318 - $128,570 a year', '$57,995 - $120,550 a year',\n",
       "       '$50,000 a year', '$82,298 - $120,000 a year',\n",
       "       '$65,000 - $75,000 a year', '$63,781 - $92,382 a year',\n",
       "       '$60,000 - $70,000 a year', '$48,000 - $52,994 a year',\n",
       "       '$20.94 an hour', '$35,000 - $40,000 a year', '$34 - $38 an hour',\n",
       "       '$6,659 - $10,094 a month', '$50,000 - $60,000 a year',\n",
       "       '$23.55 - $26.17 an hour', '$40,000 - $47,000 a year',\n",
       "       '$26.45 an hour', '$4,284 - $6,270 a month', '$22 - $33 an hour',\n",
       "       '$52,649 - $58,893 a year', '$28 an hour',\n",
       "       '$86,500 - $132,000 a year', '$35 - $38 an hour',\n",
       "       '$57,141 - $128,101 a year', '$59.00 - $59.60 an hour',\n",
       "       '$55 - $60 an hour', '$26 - $30 an hour', '$48.80 an hour',\n",
       "       '$46.12 an hour', '$60,000 - $100,000 a year', '$18 an hour',\n",
       "       '$50,000 - $80,000 a year', '$50,000 - $65,000 a year',\n",
       "       '$15 - $18 an hour', '$64,214 - $121,425 a year',\n",
       "       '$43,251 - $56,222 a year', '$62,700 - $94,050 a year',\n",
       "       '$59,322 - $88,983 a year', '$84,000 - $126,000 a year',\n",
       "       '$35 - $45 an hour', '$50 an hour', '$31.76 an hour',\n",
       "       '$29.16 an hour', '$26.44 - $31.25 an hour', '$38 an hour',\n",
       "       '$62,000 a year', '$47 - $60 an hour', '$70,000 - $100,000 a year',\n",
       "       '$21.81 an hour', '$27.96 an hour', 'From $20 an hour',\n",
       "       '$48,371 - $64,000 a year', '$27 - $35 an hour',\n",
       "       '$22 - $26 an hour', '$70,435 - $90,853 a year',\n",
       "       '$72,000 - $95,000 a year', '$97,700 a year',\n",
       "       '$58,965 - $115,999 a year', '$76,031 a year',\n",
       "       '$94,300 - $175,100 a year', '$135,000 - $165,000 a year',\n",
       "       '$67,461 - $128,008 a year', '$54,004 - $108,219 a year',\n",
       "       '$54,178 - $108,672 a year', '$65,000 a year', '$35 - $36 an hour',\n",
       "       '$54,882 - $108,001 a year', '$39 - $64 an hour',\n",
       "       '$55,851 - $107,266 a year', '$35 - $40 an hour', '$45,914 a year',\n",
       "       '$85,680 - $117,484 a year', '$51,599 - $63,982 a year',\n",
       "       '$75,000 - $106,163 a year', '$63,048 - $77,058 a year',\n",
       "       '$90,000 - $100,000 a year', '$85,000 - $98,000 a year',\n",
       "       '$86,528 a year', '$50 - $75 an hour', '$90,000 a year',\n",
       "       '$120,000 - $125,000 a year', '$58,500 - $81,800 a year',\n",
       "       '$39.01 - $58.52 an hour', '$75,000 - $80,000 a year',\n",
       "       '$70,000 - $115,000 a year', '$64,000 - $84,000 a year',\n",
       "       '$73,415 - $87,960 a year', '$29.54 an hour', '$43,200 a year',\n",
       "       '$53,557 - $71,409 a year', '$50 - $54 an hour',\n",
       "       '$80,149 - $106,866 a year', '$55,800 a year',\n",
       "       '$62,400 - $78,000 a year', '$77,300 - $100,000 a year',\n",
       "       '$71,500 - $97,000 a year', '$55,000 a year',\n",
       "       '$33,000 - $36,500 a year', '$65,373 - $117,589 a year',\n",
       "       '$56,000 - $76,000 a year', '$40,000 - $45,000 a year',\n",
       "       '$32,703 - $51,904 a year', '$20.90 - $24.20 an hour',\n",
       "       '$110,000 - $130,000 a year', '$58,000 - $62,000 a year',\n",
       "       '$55,000 - $75,000 a year', '$53,118 - $95,612 a year',\n",
       "       '$51,246 - $79,424 a year', '$38 - $40 an hour', '$53.33 an hour',\n",
       "       '$31,775 - $60,684 a year', '$26 - $31 an hour',\n",
       "       '$60,684 - $128,603 a year', '$5,875 - $6,505 a month',\n",
       "       'Up to $85,000 a year', '$67,660 - $82,695 a year',\n",
       "       '$50 - $60 an hour', '$75,000 - $90,000 a year',\n",
       "       '$102,770 - $154,150 a year', '$68,602 - $131,065 a year',\n",
       "       '$30 an hour', '$65 - $90 an hour', '$71,200 - $128,300 a year',\n",
       "       '$60 - $75 an hour', '$65,180 - $84,732 a year',\n",
       "       '$44.61 - $56.11 an hour', '$105,000 - $135,000 a year',\n",
       "       '$112,400 - $146,120 a year', '$78,400 - $121,600 a year',\n",
       "       '$105,000 - $115,000 a year', '$42 - $84 an hour',\n",
       "       'Up to $3,000 a month', '$145,000 - $150,000 a year',\n",
       "       '$99,694 - $124,634 a year', '$9,532 - $11,913 a month',\n",
       "       '$3,897 a month', '$165,000 a year', '$51.64 - $64.96 an hour',\n",
       "       '$32 - $42 an hour', '$40 - $55 an hour',\n",
       "       '$62,000 - $72,000 a year', '$14 - $16 an hour',\n",
       "       '$113,000 - $127,000 a year', '$42,244 - $80,137 a year',\n",
       "       '$25.53 an hour', '$54,995 a year', '$23 - $25 an hour',\n",
       "       'Up to $40 an hour', 'Up to $15 an hour',\n",
       "       '$92,143 - $119,787 a year', '$77,931 - $120,475 a year',\n",
       "       '$45,152 - $86,876 a year', '$19 - $20 an hour',\n",
       "       '$64,000 - $74,000 a year', '$27 - $33 an hour',\n",
       "       '$20,000 - $40,000 a year', '$36.47 - $46.21 an hour',\n",
       "       '$55,778 - $87,161 a year', '$31,200 a year', '$32,000 a year',\n",
       "       '$24 - $26 an hour', '$58,139 - $84,302 a year',\n",
       "       '$40 - $65 an hour', '$24 - $29 an hour',\n",
       "       '$55,000 - $80,000 a year', '$82,285 a year',\n",
       "       '$75,243 - $117,572 a year', '$47,000 a year',\n",
       "       '$73,096 - $95,023 a year', '$6,334 - $12,516 a month',\n",
       "       '$84,714 - $138,575 a year', '$95,000 - $100,000 a year',\n",
       "       '$22.10 an hour', '$70,800 - $90,624 a year',\n",
       "       'From $71,322 a year', '$35 - $55 an hour',\n",
       "       '$64,649 - $84,049 a year', '$59,592 - $82,472 a year',\n",
       "       '$59,280 - $67,600 a year', '$30 - $35 an hour',\n",
       "       '$44 - $73 an hour', '$21 - $35 an hour',\n",
       "       '$54,100 - $83,981 a year', '$73,962 - $115,251 a year',\n",
       "       'From $65,000 a year', '$35.24 an hour', 'Up to $30 an hour',\n",
       "       '$52,000 a year', '$64,140 - $77,609 a year',\n",
       "       '$64,140 - $70,554 a year', '$56,736 - $128,001 a year',\n",
       "       'Up to $45 an hour', '$58,100 a year', '$84,468 - $104,909 a year',\n",
       "       '$75,504 - $86,830 a year', '$46.41 - $56.11 an hour',\n",
       "       '$64,175 - $100,000 a year', '$50,000 - $55,000 a year',\n",
       "       '$55,473 - $68,898 a year', '$33.84 - $42.03 an hour',\n",
       "       '$81,000 - $105,000 a year', '$50 - $90 an hour',\n",
       "       '$36,812 - $84,395 a year', '$56,548 - $72,000 a year',\n",
       "       '$85,500 - $104,500 a year', '$84,468 - $111,003 a year',\n",
       "       '$53,956 - $60,558 a year', '$65,000 - $85,000 a year',\n",
       "       '$75 - $85 an hour', '$65,000 - $80,000 a year',\n",
       "       '$66,603 - $68,750 a year', '$35,000 - $50,000 a year',\n",
       "       '$123,552 a year', 'Up to $75,000 a year',\n",
       "       '$45,000 - $55,000 a year', '$50,074 - $124,185 a year',\n",
       "       'From $30 an hour', '$55,732 - $128,154 a year',\n",
       "       '$29 - $50 an hour', '$73,000 a year', '$65 - $75 an hour',\n",
       "       'Up to $80,000 a year', 'Up to $51,714 a year',\n",
       "       '$70,000 - $89,000 a year', '$50.34 an hour',\n",
       "       '$75,000 - $130,000 a year', '$95,000 - $110,000 a year',\n",
       "       '$20 - $45 an hour', '$105,000 - $110,000 a year',\n",
       "       'Up to $110,000 a year', '$53.08 an hour',\n",
       "       '$55,960 - $145,219 a year', '$57,833 - $127,355 a year',\n",
       "       '$104,000 a year', '$45,000 - $100,000 a year',\n",
       "       '$69,000 - $71,000 a year', '$66,043 - $85,000 a year',\n",
       "       '$5,283 - $8,592 a month', '$21.64 an hour',\n",
       "       '$42,000 - $45,000 a year', '$25 - $30 an hour',\n",
       "       '$72,000 - $75,850 a year', '$29.50 - $37.00 an hour',\n",
       "       'Up to $66.02 an hour', '$80,000 - $95,000 a year',\n",
       "       '$102,104 - $132,739 a year', '$83,250 - $90,000 a year',\n",
       "       '$75 - $86 an hour', '$46.13 - $50.86 an hour',\n",
       "       'Up to $123,000 a year', '$8,256 - $10,572 a month',\n",
       "       '$80 - $98 an hour', '$90,000 - $95,000 a year',\n",
       "       '$58,146 - $107,195 a year', 'Up to $60 an hour',\n",
       "       '$60,000 - $125,000 a year', '$53,582 - $101,336 a year',\n",
       "       '$44 - $50 an hour', '$33.86 - $38.94 an hour',\n",
       "       '$109,223 - $114,753 a year', '$37.45 - $43.62 an hour',\n",
       "       '$75,000 - $110,000 a year', '$52.92 - $61.65 an hour',\n",
       "       '$34.80 - $47.18 an hour', '$57,955 - $91,155 a year',\n",
       "       '$40,000 - $60,000 a year', '$99,736 - $120,744 a year',\n",
       "       '$50,000 - $70,000 a year', '$13 an hour',\n",
       "       '$120,000 - $130,000 a year', '$20 - $30 an hour',\n",
       "       '$88,546 a year', '$94,858 - $122,227 a year',\n",
       "       '$55,000 - $100,000 a year', '$107,000 - $124,000 a year',\n",
       "       '$72,750 - $94,581 a year', '$63,000 - $73,000 a year',\n",
       "       '$30 - $32 an hour', '$52,620 - $64,314 a year',\n",
       "       '$85 - $95 an hour', '$58,893 - $99,399 a year',\n",
       "       '$61,521 - $79,314 a year', '$60,129 - $94,581 a year',\n",
       "       '$47,421 - $75,408 a year', '$87,198 - $113,362 a year',\n",
       "       '$60,129 - $113,362 a year', '$56,376 - $106,553 a year',\n",
       "       '$60,129 - $78,167 a year', '$79,000 - $108,000 a year',\n",
       "       'From $120,000 a year', '$65,000 - $130,000 a year',\n",
       "       '$58,000 a year', '$140,000 - $200,000 a year',\n",
       "       '$67 - $70 an hour', 'Up to $100,000 a year', '$47 - $96 an hour',\n",
       "       '$43.55 an hour', '$125,000 - $135,000 a year',\n",
       "       '$86,335 - $133,465 a year', '$122,530 - $172,500 a year',\n",
       "       '$40 - $42 an hour'], dtype=object)"
      ]
     },
     "execution_count": 20,
     "metadata": {},
     "output_type": "execute_result"
    }
   ],
   "source": [
    "df['salary'].unique()"
   ]
  },
  {
   "cell_type": "code",
   "execution_count": 21,
   "metadata": {},
   "outputs": [
    {
     "data": {
      "text/plain": [
       "(1263, 10)"
      ]
     },
     "execution_count": 21,
     "metadata": {},
     "output_type": "execute_result"
    }
   ],
   "source": [
    "salaries_only_df = df[~df['salary'].isnull()]\n",
    "salaries_only_df.shape"
   ]
  },
  {
   "cell_type": "markdown",
   "metadata": {},
   "source": [
    "**We have more than 1200 jobs data jobs related postings that include salary**"
   ]
  },
  {
   "cell_type": "markdown",
   "metadata": {},
   "source": [
    "## 3. Data Preprocessing"
   ]
  },
  {
   "cell_type": "markdown",
   "metadata": {},
   "source": [
    "### Salary Feature Engineering"
   ]
  },
  {
   "cell_type": "markdown",
   "metadata": {},
   "source": [
    "#### Salary by rate type\n",
    "\n",
    "Above we see many types of salary descriptions that can be overwhelming to analyze for later. Let's simplify things a bit."
   ]
  },
  {
   "cell_type": "code",
   "execution_count": 22,
   "metadata": {},
   "outputs": [],
   "source": [
    "def rate_by_func(col):\n",
    "    \"\"\"\n",
    "    Function made to manipulate salary description in order to turn it into a salary rate type\n",
    "    \"\"\"\n",
    "    temp = \"\"\n",
    "    if \"year\" in str(col):\n",
    "        temp = \"Yearly\"\n",
    "    elif \"month\" in str(col):\n",
    "        temp = 'Monthly'\n",
    "    elif \"week\" in str(col):\n",
    "        temp = 'Weekly'\n",
    "    elif \"day\" in str(col):\n",
    "        temp = \"Daily\"\n",
    "    elif \"hour\" in str(col):\n",
    "        temp = \"Hourly\"\n",
    "    else:\n",
    "        temp = col\n",
    "    return temp"
   ]
  },
  {
   "cell_type": "code",
   "execution_count": 23,
   "metadata": {},
   "outputs": [
    {
     "name": "stderr",
     "output_type": "stream",
     "text": [
      "/Users/cristobalza/opt/anaconda3/lib/python3.7/site-packages/ipykernel_launcher.py:1: SettingWithCopyWarning: \n",
      "A value is trying to be set on a copy of a slice from a DataFrame.\n",
      "Try using .loc[row_indexer,col_indexer] = value instead\n",
      "\n",
      "See the caveats in the documentation: http://pandas.pydata.org/pandas-docs/stable/user_guide/indexing.html#returning-a-view-versus-a-copy\n",
      "  \"\"\"Entry point for launching an IPython kernel.\n"
     ]
    }
   ],
   "source": [
    "salaries_only_df['rate_by'] = salaries_only_df['salary'].apply(rate_by_func)"
   ]
  },
  {
   "cell_type": "code",
   "execution_count": 24,
   "metadata": {},
   "outputs": [
    {
     "data": {
      "text/plain": [
       "Yearly           794\n",
       "Hourly           428\n",
       "Monthly           36\n",
       "$40 per class      3\n",
       "Weekly             1\n",
       "Daily              1\n",
       "Name: rate_by, dtype: int64"
      ]
     },
     "execution_count": 24,
     "metadata": {},
     "output_type": "execute_result"
    }
   ],
   "source": [
    "salaries_only_df['rate_by'].value_counts()"
   ]
  },
  {
   "cell_type": "code",
   "execution_count": 25,
   "metadata": {},
   "outputs": [
    {
     "data": {
      "text/html": [
       "<div>\n",
       "<style scoped>\n",
       "    .dataframe tbody tr th:only-of-type {\n",
       "        vertical-align: middle;\n",
       "    }\n",
       "\n",
       "    .dataframe tbody tr th {\n",
       "        vertical-align: top;\n",
       "    }\n",
       "\n",
       "    .dataframe thead th {\n",
       "        text-align: right;\n",
       "    }\n",
       "</style>\n",
       "<table border=\"1\" class=\"dataframe\">\n",
       "  <thead>\n",
       "    <tr style=\"text-align: right;\">\n",
       "      <th></th>\n",
       "      <th>job_title</th>\n",
       "      <th>salary</th>\n",
       "      <th>company</th>\n",
       "      <th>location</th>\n",
       "      <th>is_remote</th>\n",
       "      <th>job_rating</th>\n",
       "      <th>job_summary</th>\n",
       "      <th>post_date</th>\n",
       "      <th>extract_date</th>\n",
       "      <th>job_url</th>\n",
       "      <th>rate_by</th>\n",
       "    </tr>\n",
       "  </thead>\n",
       "  <tbody>\n",
       "    <tr>\n",
       "      <td>7</td>\n",
       "      <td>Data Scientist</td>\n",
       "      <td>$40 per class</td>\n",
       "      <td>Harvard University</td>\n",
       "      <td>Boston, MA</td>\n",
       "      <td>NaN</td>\n",
       "      <td>4.3</td>\n",
       "      <td>Furthermore, they will develop new data analys...</td>\n",
       "      <td>30+ days ago</td>\n",
       "      <td>2021-01-10</td>\n",
       "      <td>https://www.indeed.com/rc/clk?jk=349a3652ec146...</td>\n",
       "      <td>$40 per class</td>\n",
       "    </tr>\n",
       "    <tr>\n",
       "      <td>10</td>\n",
       "      <td>Data Scientist / Engineer</td>\n",
       "      <td>$40 per class</td>\n",
       "      <td>Harvard University</td>\n",
       "      <td>Boston, MA</td>\n",
       "      <td>NaN</td>\n",
       "      <td>4.3</td>\n",
       "      <td>We are especially interested in candidates wit...</td>\n",
       "      <td>30+ days ago</td>\n",
       "      <td>2021-01-10</td>\n",
       "      <td>https://www.indeed.com/rc/clk?jk=f51201ad681b4...</td>\n",
       "      <td>$40 per class</td>\n",
       "    </tr>\n",
       "    <tr>\n",
       "      <td>238</td>\n",
       "      <td>Statistical Analyst/Programmer</td>\n",
       "      <td>$40 per class</td>\n",
       "      <td>Harvard University</td>\n",
       "      <td>Boston, MA</td>\n",
       "      <td>NaN</td>\n",
       "      <td>4.3</td>\n",
       "      <td>Chan School of Public Health, is responsible f...</td>\n",
       "      <td>30+ days ago</td>\n",
       "      <td>2021-01-10</td>\n",
       "      <td>https://www.indeed.com/rc/clk?jk=37ef1e8ffb58e...</td>\n",
       "      <td>$40 per class</td>\n",
       "    </tr>\n",
       "  </tbody>\n",
       "</table>\n",
       "</div>"
      ],
      "text/plain": [
       "                          job_title         salary             company  \\\n",
       "7                    Data Scientist  $40 per class  Harvard University   \n",
       "10        Data Scientist / Engineer  $40 per class  Harvard University   \n",
       "238  Statistical Analyst/Programmer  $40 per class  Harvard University   \n",
       "\n",
       "       location is_remote  job_rating  \\\n",
       "7    Boston, MA       NaN         4.3   \n",
       "10   Boston, MA       NaN         4.3   \n",
       "238  Boston, MA       NaN         4.3   \n",
       "\n",
       "                                           job_summary     post_date  \\\n",
       "7    Furthermore, they will develop new data analys...  30+ days ago   \n",
       "10   We are especially interested in candidates wit...  30+ days ago   \n",
       "238  Chan School of Public Health, is responsible f...  30+ days ago   \n",
       "\n",
       "    extract_date                                            job_url  \\\n",
       "7     2021-01-10  https://www.indeed.com/rc/clk?jk=349a3652ec146...   \n",
       "10    2021-01-10  https://www.indeed.com/rc/clk?jk=f51201ad681b4...   \n",
       "238   2021-01-10  https://www.indeed.com/rc/clk?jk=37ef1e8ffb58e...   \n",
       "\n",
       "           rate_by  \n",
       "7    $40 per class  \n",
       "10   $40 per class  \n",
       "238  $40 per class  "
      ]
     },
     "execution_count": 25,
     "metadata": {},
     "output_type": "execute_result"
    }
   ],
   "source": [
    "salaries_only_df[salaries_only_df['salary'] == \"$40 per class\"]"
   ]
  },
  {
   "cell_type": "markdown",
   "metadata": {},
   "source": [
    "Some job postings had educational purpose. Since the number is very low, those jobs will be excluded."
   ]
  },
  {
   "cell_type": "code",
   "execution_count": 26,
   "metadata": {},
   "outputs": [
    {
     "data": {
      "text/plain": [
       "(1260, 11)"
      ]
     },
     "execution_count": 26,
     "metadata": {},
     "output_type": "execute_result"
    }
   ],
   "source": [
    "salaries_only_df = salaries_only_df[salaries_only_df['salary'] != \"$40 per class\"]\n",
    "salaries_only_df.shape"
   ]
  },
  {
   "cell_type": "code",
   "execution_count": 27,
   "metadata": {},
   "outputs": [
    {
     "data": {
      "text/html": [
       "<div>\n",
       "<style scoped>\n",
       "    .dataframe tbody tr th:only-of-type {\n",
       "        vertical-align: middle;\n",
       "    }\n",
       "\n",
       "    .dataframe tbody tr th {\n",
       "        vertical-align: top;\n",
       "    }\n",
       "\n",
       "    .dataframe thead th {\n",
       "        text-align: right;\n",
       "    }\n",
       "</style>\n",
       "<table border=\"1\" class=\"dataframe\">\n",
       "  <thead>\n",
       "    <tr style=\"text-align: right;\">\n",
       "      <th></th>\n",
       "      <th>job_title</th>\n",
       "      <th>salary</th>\n",
       "      <th>company</th>\n",
       "      <th>location</th>\n",
       "      <th>is_remote</th>\n",
       "      <th>job_rating</th>\n",
       "      <th>job_summary</th>\n",
       "      <th>post_date</th>\n",
       "      <th>extract_date</th>\n",
       "      <th>job_url</th>\n",
       "      <th>rate_by</th>\n",
       "    </tr>\n",
       "  </thead>\n",
       "  <tbody>\n",
       "    <tr>\n",
       "      <td>146</td>\n",
       "      <td>Data Science Program Director</td>\n",
       "      <td>$1,350 a week</td>\n",
       "      <td>National Student Leadership Conference</td>\n",
       "      <td>Atlanta, GA</td>\n",
       "      <td>NaN</td>\n",
       "      <td>4.6</td>\n",
       "      <td>Program is a 9-day educational conference prov...</td>\n",
       "      <td>27 days ago</td>\n",
       "      <td>2021-01-10</td>\n",
       "      <td>https://www.indeed.com/company/National-Studen...</td>\n",
       "      <td>Weekly</td>\n",
       "    </tr>\n",
       "  </tbody>\n",
       "</table>\n",
       "</div>"
      ],
      "text/plain": [
       "                         job_title         salary  \\\n",
       "146  Data Science Program Director  $1,350 a week   \n",
       "\n",
       "                                    company     location is_remote  \\\n",
       "146  National Student Leadership Conference  Atlanta, GA       NaN   \n",
       "\n",
       "     job_rating                                        job_summary  \\\n",
       "146         4.6  Program is a 9-day educational conference prov...   \n",
       "\n",
       "       post_date extract_date  \\\n",
       "146  27 days ago   2021-01-10   \n",
       "\n",
       "                                               job_url rate_by  \n",
       "146  https://www.indeed.com/company/National-Studen...  Weekly  "
      ]
     },
     "execution_count": 27,
     "metadata": {},
     "output_type": "execute_result"
    }
   ],
   "source": [
    "salaries_only_df[salaries_only_df['rate_by'] == \"Weekly\"]"
   ]
  },
  {
   "cell_type": "markdown",
   "metadata": {},
   "source": [
    "#### Max and min"
   ]
  },
  {
   "cell_type": "code",
   "execution_count": 28,
   "metadata": {},
   "outputs": [],
   "source": [
    "salaries_only_df[['min', 'max']] = salaries_only_df['salary'].str.split('-', expand = True)"
   ]
  },
  {
   "cell_type": "code",
   "execution_count": 29,
   "metadata": {},
   "outputs": [
    {
     "data": {
      "text/html": [
       "<div>\n",
       "<style scoped>\n",
       "    .dataframe tbody tr th:only-of-type {\n",
       "        vertical-align: middle;\n",
       "    }\n",
       "\n",
       "    .dataframe tbody tr th {\n",
       "        vertical-align: top;\n",
       "    }\n",
       "\n",
       "    .dataframe thead th {\n",
       "        text-align: right;\n",
       "    }\n",
       "</style>\n",
       "<table border=\"1\" class=\"dataframe\">\n",
       "  <thead>\n",
       "    <tr style=\"text-align: right;\">\n",
       "      <th></th>\n",
       "      <th>min</th>\n",
       "      <th>max</th>\n",
       "    </tr>\n",
       "  </thead>\n",
       "  <tbody>\n",
       "    <tr>\n",
       "      <td>3</td>\n",
       "      <td>Up to $120,000 a year</td>\n",
       "      <td>None</td>\n",
       "    </tr>\n",
       "    <tr>\n",
       "      <td>8</td>\n",
       "      <td>$60</td>\n",
       "      <td>$80 an hour</td>\n",
       "    </tr>\n",
       "    <tr>\n",
       "      <td>19</td>\n",
       "      <td>$35</td>\n",
       "      <td>$50 an hour</td>\n",
       "    </tr>\n",
       "    <tr>\n",
       "      <td>23</td>\n",
       "      <td>$92,000</td>\n",
       "      <td>$108,000 a year</td>\n",
       "    </tr>\n",
       "    <tr>\n",
       "      <td>24</td>\n",
       "      <td>$60</td>\n",
       "      <td>$100 an hour</td>\n",
       "    </tr>\n",
       "    <tr>\n",
       "      <td>...</td>\n",
       "      <td>...</td>\n",
       "      <td>...</td>\n",
       "    </tr>\n",
       "    <tr>\n",
       "      <td>250</td>\n",
       "      <td>$86,335</td>\n",
       "      <td>$133,465 a year</td>\n",
       "    </tr>\n",
       "    <tr>\n",
       "      <td>253</td>\n",
       "      <td>$122,530</td>\n",
       "      <td>$172,500 a year</td>\n",
       "    </tr>\n",
       "    <tr>\n",
       "      <td>281</td>\n",
       "      <td>$80,000</td>\n",
       "      <td>$89,000 a year</td>\n",
       "    </tr>\n",
       "    <tr>\n",
       "      <td>282</td>\n",
       "      <td>$70,000 a year</td>\n",
       "      <td>None</td>\n",
       "    </tr>\n",
       "    <tr>\n",
       "      <td>284</td>\n",
       "      <td>$40</td>\n",
       "      <td>$42 an hour</td>\n",
       "    </tr>\n",
       "  </tbody>\n",
       "</table>\n",
       "<p>1260 rows × 2 columns</p>\n",
       "</div>"
      ],
      "text/plain": [
       "                       min               max\n",
       "3    Up to $120,000 a year              None\n",
       "8                     $60        $80 an hour\n",
       "19                    $35        $50 an hour\n",
       "23                $92,000    $108,000 a year\n",
       "24                    $60       $100 an hour\n",
       "..                     ...               ...\n",
       "250               $86,335    $133,465 a year\n",
       "253              $122,530    $172,500 a year\n",
       "281               $80,000     $89,000 a year\n",
       "282         $70,000 a year              None\n",
       "284                   $40        $42 an hour\n",
       "\n",
       "[1260 rows x 2 columns]"
      ]
     },
     "execution_count": 29,
     "metadata": {},
     "output_type": "execute_result"
    }
   ],
   "source": [
    "salaries_only_df[['min', 'max']]"
   ]
  },
  {
   "cell_type": "markdown",
   "metadata": {},
   "source": [
    "#### Extract digits using `regex`"
   ]
  },
  {
   "cell_type": "code",
   "execution_count": 30,
   "metadata": {},
   "outputs": [
    {
     "data": {
      "text/plain": [
       "['$50,000', '$70,000']"
      ]
     },
     "execution_count": 30,
     "metadata": {},
     "output_type": "execute_result"
    }
   ],
   "source": [
    "example = \"$50,000 - $70,000 a year\"\n",
    "pattern = '\\$[0-9]*[.,]?[0-9]*'\n",
    "p = re.compile(pattern)\n",
    "digits = p.findall(example)\n",
    "digits"
   ]
  },
  {
   "cell_type": "code",
   "execution_count": 31,
   "metadata": {},
   "outputs": [],
   "source": [
    "def extract_digits_func(description):\n",
    "    \"\"\"\n",
    "    Cleans string value Series using Regex. Only keeps digits\n",
    "    \"\"\"\n",
    "    if description:\n",
    "        pattern = '\\$[0-9]*[.,]?[0-9]*'\n",
    "        p = re.compile(pattern)\n",
    "        digits = p.findall(description)\n",
    "        temp_1 = digits[0].replace(\"$\",\"\")\n",
    "        temp_2 = temp_1.replace(\",\",\"\")\n",
    "        \n",
    "        return float(temp_2)\n",
    "    else:\n",
    "        return 0"
   ]
  },
  {
   "cell_type": "code",
   "execution_count": 32,
   "metadata": {},
   "outputs": [],
   "source": [
    "# List of all unique possible salary options\n",
    "salary_unique_list = salaries_only_df['salary'].unique()"
   ]
  },
  {
   "cell_type": "code",
   "execution_count": 33,
   "metadata": {},
   "outputs": [],
   "source": [
    "salaries_only_df['min'] = salaries_only_df['min'].apply(extract_digits_func)"
   ]
  },
  {
   "cell_type": "code",
   "execution_count": 34,
   "metadata": {},
   "outputs": [],
   "source": [
    "salaries_only_df['max'] = salaries_only_df['max'].apply(extract_digits_func)"
   ]
  },
  {
   "cell_type": "code",
   "execution_count": 35,
   "metadata": {},
   "outputs": [
    {
     "data": {
      "text/html": [
       "<div>\n",
       "<style scoped>\n",
       "    .dataframe tbody tr th:only-of-type {\n",
       "        vertical-align: middle;\n",
       "    }\n",
       "\n",
       "    .dataframe tbody tr th {\n",
       "        vertical-align: top;\n",
       "    }\n",
       "\n",
       "    .dataframe thead th {\n",
       "        text-align: right;\n",
       "    }\n",
       "</style>\n",
       "<table border=\"1\" class=\"dataframe\">\n",
       "  <thead>\n",
       "    <tr style=\"text-align: right;\">\n",
       "      <th></th>\n",
       "      <th>min</th>\n",
       "      <th>max</th>\n",
       "    </tr>\n",
       "  </thead>\n",
       "  <tbody>\n",
       "    <tr>\n",
       "      <td>3</td>\n",
       "      <td>120000.0</td>\n",
       "      <td>0.0</td>\n",
       "    </tr>\n",
       "    <tr>\n",
       "      <td>8</td>\n",
       "      <td>60.0</td>\n",
       "      <td>80.0</td>\n",
       "    </tr>\n",
       "    <tr>\n",
       "      <td>19</td>\n",
       "      <td>35.0</td>\n",
       "      <td>50.0</td>\n",
       "    </tr>\n",
       "    <tr>\n",
       "      <td>23</td>\n",
       "      <td>92000.0</td>\n",
       "      <td>108000.0</td>\n",
       "    </tr>\n",
       "    <tr>\n",
       "      <td>24</td>\n",
       "      <td>60.0</td>\n",
       "      <td>100.0</td>\n",
       "    </tr>\n",
       "    <tr>\n",
       "      <td>...</td>\n",
       "      <td>...</td>\n",
       "      <td>...</td>\n",
       "    </tr>\n",
       "    <tr>\n",
       "      <td>250</td>\n",
       "      <td>86335.0</td>\n",
       "      <td>133465.0</td>\n",
       "    </tr>\n",
       "    <tr>\n",
       "      <td>253</td>\n",
       "      <td>122530.0</td>\n",
       "      <td>172500.0</td>\n",
       "    </tr>\n",
       "    <tr>\n",
       "      <td>281</td>\n",
       "      <td>80000.0</td>\n",
       "      <td>89000.0</td>\n",
       "    </tr>\n",
       "    <tr>\n",
       "      <td>282</td>\n",
       "      <td>70000.0</td>\n",
       "      <td>0.0</td>\n",
       "    </tr>\n",
       "    <tr>\n",
       "      <td>284</td>\n",
       "      <td>40.0</td>\n",
       "      <td>42.0</td>\n",
       "    </tr>\n",
       "  </tbody>\n",
       "</table>\n",
       "<p>1260 rows × 2 columns</p>\n",
       "</div>"
      ],
      "text/plain": [
       "          min       max\n",
       "3    120000.0       0.0\n",
       "8        60.0      80.0\n",
       "19       35.0      50.0\n",
       "23    92000.0  108000.0\n",
       "24       60.0     100.0\n",
       "..        ...       ...\n",
       "250   86335.0  133465.0\n",
       "253  122530.0  172500.0\n",
       "281   80000.0   89000.0\n",
       "282   70000.0       0.0\n",
       "284      40.0      42.0\n",
       "\n",
       "[1260 rows x 2 columns]"
      ]
     },
     "execution_count": 35,
     "metadata": {},
     "output_type": "execute_result"
    }
   ],
   "source": [
    "salaries_only_df[['min', 'max']]"
   ]
  },
  {
   "cell_type": "code",
   "execution_count": 36,
   "metadata": {},
   "outputs": [],
   "source": [
    "def average_func(a, b):\n",
    "    \"\"\"\n",
    "    Calculate average\n",
    "    \"\"\"\n",
    "    adjusted_salary=[]\n",
    "    for x, y in zip(a,b):\n",
    "        if y > 0:\n",
    "            avg_salary = (x+y)/2\n",
    "        else:\n",
    "            avg_salary = x\n",
    "        adjusted_salary.append(avg_salary)\n",
    "    return adjusted_salary"
   ]
  },
  {
   "cell_type": "code",
   "execution_count": 37,
   "metadata": {},
   "outputs": [],
   "source": [
    "a = salaries_only_df['min']\n",
    "b = salaries_only_df['max']\n",
    "salaries_only_df['adjusted_salary'] = average_func(a, b)"
   ]
  },
  {
   "cell_type": "code",
   "execution_count": 38,
   "metadata": {},
   "outputs": [
    {
     "data": {
      "text/html": [
       "<div>\n",
       "<style scoped>\n",
       "    .dataframe tbody tr th:only-of-type {\n",
       "        vertical-align: middle;\n",
       "    }\n",
       "\n",
       "    .dataframe tbody tr th {\n",
       "        vertical-align: top;\n",
       "    }\n",
       "\n",
       "    .dataframe thead th {\n",
       "        text-align: right;\n",
       "    }\n",
       "</style>\n",
       "<table border=\"1\" class=\"dataframe\">\n",
       "  <thead>\n",
       "    <tr style=\"text-align: right;\">\n",
       "      <th></th>\n",
       "      <th>rate_by</th>\n",
       "      <th>adjusted_salary</th>\n",
       "    </tr>\n",
       "  </thead>\n",
       "  <tbody>\n",
       "    <tr>\n",
       "      <td>3</td>\n",
       "      <td>Yearly</td>\n",
       "      <td>120000.0</td>\n",
       "    </tr>\n",
       "    <tr>\n",
       "      <td>8</td>\n",
       "      <td>Hourly</td>\n",
       "      <td>70.0</td>\n",
       "    </tr>\n",
       "    <tr>\n",
       "      <td>19</td>\n",
       "      <td>Hourly</td>\n",
       "      <td>42.5</td>\n",
       "    </tr>\n",
       "    <tr>\n",
       "      <td>23</td>\n",
       "      <td>Yearly</td>\n",
       "      <td>100000.0</td>\n",
       "    </tr>\n",
       "    <tr>\n",
       "      <td>24</td>\n",
       "      <td>Hourly</td>\n",
       "      <td>80.0</td>\n",
       "    </tr>\n",
       "  </tbody>\n",
       "</table>\n",
       "</div>"
      ],
      "text/plain": [
       "   rate_by  adjusted_salary\n",
       "3   Yearly         120000.0\n",
       "8   Hourly             70.0\n",
       "19  Hourly             42.5\n",
       "23  Yearly         100000.0\n",
       "24  Hourly             80.0"
      ]
     },
     "execution_count": 38,
     "metadata": {},
     "output_type": "execute_result"
    }
   ],
   "source": [
    "salaries_only_df[['rate_by', 'adjusted_salary']].head()"
   ]
  },
  {
   "cell_type": "markdown",
   "metadata": {},
   "source": [
    "According to the [U.S. Bureau of Labor Satistics](https://www.bls.gov/ooh/computer-and-information-technology/computer-and-information-research-scientists.htm?view_full), the average of most computer and data related jobs weekly hours is more than of 40 hours a week.\n",
    "\n",
    "However, "
   ]
  },
  {
   "cell_type": "code",
   "execution_count": 39,
   "metadata": {},
   "outputs": [],
   "source": [
    "def yearly_salaries_func(rates,salaries_num):\n",
    "    \"\"\"\n",
    "    Put all salaries in terms of Yearly salary.\n",
    "    For example to calculate the \n",
    "    \"\"\"\n",
    "    adjusted_yearly_salary = []\n",
    "    for r, salary_num in zip(rates,salaries_num):\n",
    "        if r == \"Yearly\":\n",
    "            # salary_num\n",
    "            yearly_salary = salary_num\n",
    "        elif r == \"Monthly\":\n",
    "            # salary * 12 months\n",
    "            yearly_salary = salary_num*12\n",
    "        elif r == \"Daily\":\n",
    "            # salary * weekdays * 52 weeks of the year\n",
    "            yearly_salary = salary_num*5*52  \n",
    "        elif r == \"Hourly\":\n",
    "            # salary * avg hours worked * 52 weeks of the year\n",
    "            yearly_salary = salary_num*47*52\n",
    "        elif r == 'Weekly':\n",
    "            yearly_salary = salary_num * 52\n",
    "        adjusted_yearly_salary.append(yearly_salary)\n",
    "    return adjusted_yearly_salary"
   ]
  },
  {
   "cell_type": "code",
   "execution_count": 40,
   "metadata": {},
   "outputs": [],
   "source": [
    "a = salaries_only_df['rate_by']\n",
    "b = salaries_only_df['adjusted_salary']\n",
    "salaries_only_df['yearly_adjusted_salary'] = yearly_salaries_func(a,b)"
   ]
  },
  {
   "cell_type": "code",
   "execution_count": 41,
   "metadata": {},
   "outputs": [
    {
     "data": {
      "text/plain": [
       "195642.2    37\n",
       "70000.0     33\n",
       "190000.0    29\n",
       "250000.0    26\n",
       "158860.0    26\n",
       "            ..\n",
       "42303.5      1\n",
       "62400.0      1\n",
       "60906.0      1\n",
       "65502.0      1\n",
       "175000.0     1\n",
       "Name: yearly_adjusted_salary, Length: 426, dtype: int64"
      ]
     },
     "execution_count": 41,
     "metadata": {},
     "output_type": "execute_result"
    }
   ],
   "source": [
    "salaries_only_df['yearly_adjusted_salary'].value_counts()"
   ]
  },
  {
   "cell_type": "code",
   "execution_count": 42,
   "metadata": {},
   "outputs": [
    {
     "data": {
      "text/plain": [
       "Float64Index([312500.0, 270000.0, 250000.0, 240000.0, 228500.0, 225000.0,\n",
       "              220000.0, 219960.0, 217516.0, 215000.0,\n",
       "              ...\n",
       "               37500.0,  36660.0,  36000.0,  34750.0,  32000.0,  31772.0,\n",
       "               31200.0,  30000.0,  24440.0,  24000.0],\n",
       "             dtype='float64', length=426)"
      ]
     },
     "execution_count": 42,
     "metadata": {},
     "output_type": "execute_result"
    }
   ],
   "source": [
    "salaries_only_df['yearly_adjusted_salary'].value_counts().index.unique().sort_values(ascending = False)"
   ]
  },
  {
   "cell_type": "code",
   "execution_count": 43,
   "metadata": {},
   "outputs": [
    {
     "data": {
      "text/html": [
       "<div>\n",
       "<style scoped>\n",
       "    .dataframe tbody tr th:only-of-type {\n",
       "        vertical-align: middle;\n",
       "    }\n",
       "\n",
       "    .dataframe tbody tr th {\n",
       "        vertical-align: top;\n",
       "    }\n",
       "\n",
       "    .dataframe thead th {\n",
       "        text-align: right;\n",
       "    }\n",
       "</style>\n",
       "<table border=\"1\" class=\"dataframe\">\n",
       "  <thead>\n",
       "    <tr style=\"text-align: right;\">\n",
       "      <th></th>\n",
       "      <th>rate_by</th>\n",
       "      <th>min</th>\n",
       "      <th>max</th>\n",
       "      <th>yearly_adjusted_salary</th>\n",
       "    </tr>\n",
       "  </thead>\n",
       "  <tbody>\n",
       "    <tr>\n",
       "      <td>3</td>\n",
       "      <td>Yearly</td>\n",
       "      <td>120000.0</td>\n",
       "      <td>0.0</td>\n",
       "      <td>120000.0</td>\n",
       "    </tr>\n",
       "    <tr>\n",
       "      <td>8</td>\n",
       "      <td>Hourly</td>\n",
       "      <td>60.0</td>\n",
       "      <td>80.0</td>\n",
       "      <td>171080.0</td>\n",
       "    </tr>\n",
       "    <tr>\n",
       "      <td>19</td>\n",
       "      <td>Hourly</td>\n",
       "      <td>35.0</td>\n",
       "      <td>50.0</td>\n",
       "      <td>103870.0</td>\n",
       "    </tr>\n",
       "    <tr>\n",
       "      <td>23</td>\n",
       "      <td>Yearly</td>\n",
       "      <td>92000.0</td>\n",
       "      <td>108000.0</td>\n",
       "      <td>100000.0</td>\n",
       "    </tr>\n",
       "    <tr>\n",
       "      <td>24</td>\n",
       "      <td>Hourly</td>\n",
       "      <td>60.0</td>\n",
       "      <td>100.0</td>\n",
       "      <td>195520.0</td>\n",
       "    </tr>\n",
       "  </tbody>\n",
       "</table>\n",
       "</div>"
      ],
      "text/plain": [
       "   rate_by       min       max  yearly_adjusted_salary\n",
       "3   Yearly  120000.0       0.0                120000.0\n",
       "8   Hourly      60.0      80.0                171080.0\n",
       "19  Hourly      35.0      50.0                103870.0\n",
       "23  Yearly   92000.0  108000.0                100000.0\n",
       "24  Hourly      60.0     100.0                195520.0"
      ]
     },
     "execution_count": 43,
     "metadata": {},
     "output_type": "execute_result"
    }
   ],
   "source": [
    "salaries_only_df[['rate_by','min', 'max', 'yearly_adjusted_salary']].head()"
   ]
  },
  {
   "cell_type": "markdown",
   "metadata": {},
   "source": [
    "#### Salary Bins"
   ]
  },
  {
   "cell_type": "code",
   "execution_count": 44,
   "metadata": {},
   "outputs": [
    {
     "data": {
      "text/plain": [
       "(312500.0, 24000.0)"
      ]
     },
     "execution_count": 44,
     "metadata": {},
     "output_type": "execute_result"
    }
   ],
   "source": [
    "(salaries_only_df['yearly_adjusted_salary'].max(), salaries_only_df['yearly_adjusted_salary'].min())"
   ]
  },
  {
   "cell_type": "code",
   "execution_count": 45,
   "metadata": {},
   "outputs": [],
   "source": [
    "salaries_bins = [0, 50000, 100000, 150000, 200000, 250000, 300000, 350000]\n",
    "salaries_only_df['salary_bins'] = pd.cut(x = salaries_only_df['yearly_adjusted_salary'], bins=salaries_bins)"
   ]
  },
  {
   "cell_type": "code",
   "execution_count": 46,
   "metadata": {},
   "outputs": [
    {
     "data": {
      "text/plain": [
       "(50000, 100000]     515\n",
       "(100000, 150000]    351\n",
       "(150000, 200000]    238\n",
       "(0, 50000]           75\n",
       "(200000, 250000]     61\n",
       "(300000, 350000]     18\n",
       "(250000, 300000]      2\n",
       "Name: salary_bins, dtype: int64"
      ]
     },
     "execution_count": 46,
     "metadata": {},
     "output_type": "execute_result"
    }
   ],
   "source": [
    "salaries_only_df['salary_bins'].value_counts()"
   ]
  },
  {
   "cell_type": "code",
   "execution_count": null,
   "metadata": {},
   "outputs": [],
   "source": []
  },
  {
   "cell_type": "markdown",
   "metadata": {},
   "source": [
    "## 4. Data Exploration "
   ]
  },
  {
   "cell_type": "code",
   "execution_count": 47,
   "metadata": {},
   "outputs": [],
   "source": [
    "from pylab import rcParams\n",
    "mpl.rcParams['figure.dpi']= 150\n",
    "sns.mpl.rc(\"figure\", figsize=(10, 6))"
   ]
  },
  {
   "cell_type": "code",
   "execution_count": 48,
   "metadata": {},
   "outputs": [
    {
     "data": {
      "image/png": "[encoded data removed]",
      "text/plain": [
       "<Figure size 1500x900 with 1 Axes>"
      ]
     },
     "metadata": {
      "needs_background": "light"
     },
     "output_type": "display_data"
    }
   ],
   "source": [
    "city_salary = salaries_only_df.groupby('location')['yearly_adjusted_salary'].median().sort_values(ascending = False)[:10]\n",
    "sns.barplot(x = city_salary.index, y = city_salary.values, palette = 'mako')\n",
    "plt.xticks(rotation='60')\n",
    "plt.title(\"Top 10 Median Salary for Data Jobs by Location\");"
   ]
  },
  {
   "cell_type": "code",
   "execution_count": 49,
   "metadata": {},
   "outputs": [
    {
     "data": {
      "image/png": "[encoded data removed]",
      "text/plain": [
       "<Figure size 1500x900 with 1 Axes>"
      ]
     },
     "metadata": {
      "needs_background": "light"
     },
     "output_type": "display_data"
    }
   ],
   "source": [
    "city_salary = salaries_only_df.groupby('location')['yearly_adjusted_salary'].mean().sort_values(ascending = False)[:10]\n",
    "sns.barplot(x = city_salary.index, y = city_salary.values, palette = 'mako')\n",
    "plt.xticks(rotation='60')\n",
    "plt.title(\"Top 10 Average Salary for Data Jobs by Location\");"
   ]
  },
  {
   "cell_type": "code",
   "execution_count": 50,
   "metadata": {},
   "outputs": [
    {
     "data": {
      "image/png": "[encoded data removed]",
      "text/plain": [
       "<Figure size 1500x900 with 1 Axes>"
      ]
     },
     "metadata": {
      "needs_background": "light"
     },
     "output_type": "display_data"
    }
   ],
   "source": [
    "binies = salaries_only_df['salary_bins'].value_counts()\n",
    "sns.barplot(x = binies.index, y = binies.values)\n",
    "plt.xticks(rotation=60)\n",
    "plt.title('Salaries by bins');"
   ]
  },
  {
   "cell_type": "code",
   "execution_count": 51,
   "metadata": {},
   "outputs": [],
   "source": [
    "df.to_csv('./data/all_jobs.csv')"
   ]
  },
  {
   "cell_type": "code",
   "execution_count": 52,
   "metadata": {},
   "outputs": [],
   "source": [
    "salaries_only_df.to_csv('./data/only_salary_jobs.csv')"
   ]
  },
  {
   "cell_type": "markdown",
   "metadata": {},
   "source": [
    "Now, we will combined the [Cost of Living](https://www.investopedia.com/terms/c/cost-of-living.asp) according to the cities."
   ]
  },
  {
   "cell_type": "code",
   "execution_count": null,
   "metadata": {},
   "outputs": [],
   "source": []
  }
 ],
 "metadata": {
  "kernelspec": {
   "display_name": "Python 3.7 (scrapper_ml)",
   "language": "python",
   "name": "scrapper_ml"
  },
  "language_info": {
   "codemirror_mode": {
    "name": "ipython",
    "version": 3
   },
   "file_extension": ".py",
   "mimetype": "text/x-python",
   "name": "python",
   "nbconvert_exporter": "python",
   "pygments_lexer": "ipython3",
   "version": "3.7.4"
  }
 },
 "nbformat": 4,
 "nbformat_minor": 2
}
